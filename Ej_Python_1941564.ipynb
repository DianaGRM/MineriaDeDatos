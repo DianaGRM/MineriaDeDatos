{
  "nbformat": 4,
  "nbformat_minor": 0,
  "metadata": {
    "colab": {
      "name": "Untitled1.ipynb",
      "provenance": [],
      "authorship_tag": "ABX9TyOEXiNDaiLIndifgP5yQhWA",
      "include_colab_link": true
    },
    "kernelspec": {
      "name": "python3",
      "display_name": "Python 3"
    },
    "language_info": {
      "name": "python"
    }
  },
  "cells": [
    {
      "cell_type": "markdown",
      "metadata": {
        "id": "view-in-github",
        "colab_type": "text"
      },
      "source": [
        "<a href=\"https://colab.research.google.com/github/DianaGRM/MineriaDeDatos/blob/main/Ej_Python_1941564.ipynb\" target=\"_parent\"><img src=\"https://colab.research.google.com/assets/colab-badge.svg\" alt=\"Open In Colab\"/></a>"
      ]
    },
    {
      "cell_type": "markdown",
      "metadata": {
        "id": "bivrqmoIkqVq"
      },
      "source": [
        ""
      ]
    },
    {
      "cell_type": "markdown",
      "metadata": {
        "id": "oDsPxB7Dktbk"
      },
      "source": [
        "# **Ejercicio 1**\n",
        "Realiza una variable con tu matricula y realiza una secuencia de imprimir con tu nombre y tu matricula concatenados."
      ]
    },
    {
      "cell_type": "code",
      "metadata": {
        "colab": {
          "base_uri": "https://localhost:8080/"
        },
        "id": "Q46ozt52lZZa",
        "outputId": "d5496a87-ea18-4209-e637-c92cb7359f72"
      },
      "source": [
        "nombre = \"Diana Gabriela Ramírez Moreno\"\n",
        "matricula = 1941564\n",
        "\n",
        "print(nombre+\" \"+str(matricula))"
      ],
      "execution_count": 3,
      "outputs": [
        {
          "output_type": "stream",
          "text": [
            "Diana Gabriela Ramírez Moreno 1941564\n"
          ],
          "name": "stdout"
        }
      ]
    },
    {
      "cell_type": "markdown",
      "metadata": {
        "id": "f5FFtw87k7Lo"
      },
      "source": [
        ""
      ]
    },
    {
      "cell_type": "code",
      "metadata": {
        "id": "aKHBdNcHmFWd"
      },
      "source": [
        ""
      ],
      "execution_count": null,
      "outputs": []
    },
    {
      "cell_type": "markdown",
      "metadata": {
        "id": "Kl_MYfrVmr-1"
      },
      "source": [
        "# **Ejercicio 2**\n",
        "Pidiendo el input del usuario pide dos números y crea una pequeña calculadora con los operadores básicos de suma, resta, multiplicación, división, y exponente.\n"
      ]
    },
    {
      "cell_type": "markdown",
      "metadata": {
        "id": "_dVCJFD6m3-v"
      },
      "source": [
        ""
      ]
    },
    {
      "cell_type": "code",
      "metadata": {
        "colab": {
          "base_uri": "https://localhost:8080/"
        },
        "id": "WeF9vNJ2m5HQ",
        "outputId": "63f9e671-7af0-46cd-e28b-066166afec96"
      },
      "source": [
        "print(\"Calculadora\")\n",
        "def menu():\n",
        "    print(\"\\n\\nMenu\\n 1)Suma\\n 2)Resta\\n 3)Multiplicacion\\n 4)Division\\n 5)Exponencial\\n 0)Salir\")\n",
        "\n",
        "opc=0\n",
        "while opc != 6 :\n",
        "    menu()\n",
        "    \n",
        "    opc=int(input(\"Introduzca la opcion deseada: \"))\n",
        "    \n",
        "    if opc == 0 :\n",
        "        break\n",
        "        \n",
        "    if  opc>=6:\n",
        "        \n",
        "        print(\"Favor de introducir una opcion valida\")\n",
        "        menu()\n",
        "        opc=int(input(\"Introduzca la opcion deseada: \"))\n",
        "        \n",
        "    A=float(input(\"Introduzca el primer valor: \"))\n",
        "    B=float(input(\"Indroduzca se segundo valor: \"))\n",
        "    \n",
        "    if opc==1:\n",
        "        print(\"El resultado es\", A+B)\n",
        "    elif opc==2:\n",
        "        print(\"El resultado es\", A-B)\n",
        "    elif opc==3:\n",
        "        print(\"El resultado es \", A*B)\n",
        "    elif opc==4:\n",
        "        if a2==0:\n",
        "             print(\"Valores no validos\")\n",
        "        else:\n",
        "             print(\"El resultado es \", A/B)\n",
        "    elif opc==5 :\n",
        "        print(\"El resultado es \", A**B)\n",
        "        \n",
        "    else:\n",
        "        print(\"Favor de introducir una opcion valida\")\n",
        "    "
      ],
      "execution_count": 4,
      "outputs": [
        {
          "output_type": "stream",
          "text": [
            "Calculadora\n",
            "\n",
            "\n",
            "Menu\n",
            " 1)Suma\n",
            " 2)Resta\n",
            " 3)Multiplicacion\n",
            " 4)Division\n",
            " 5)Exponencial\n",
            " 0)Salir\n",
            "Introduzca la opcion deseada: 3\n",
            "Introduzca el primer valor: 4\n",
            "Indroduzca se segundo valor: 5\n",
            "El resultado es  20.0\n",
            "\n",
            "\n",
            "Menu\n",
            " 1)Suma\n",
            " 2)Resta\n",
            " 3)Multiplicacion\n",
            " 4)Division\n",
            " 5)Exponencial\n",
            " 0)Salir\n",
            "Introduzca la opcion deseada: 0\n"
          ],
          "name": "stdout"
        }
      ]
    },
    {
      "cell_type": "markdown",
      "metadata": {
        "id": "8cvSOlIVoqMP"
      },
      "source": [
        "# **Ejercicio 3**\n",
        "Con loop while o for, realiza una lista de 10 numeros multiplos de 3, y después realiza una función de loop que sume todos los números dentro del arreglo."
      ]
    },
    {
      "cell_type": "markdown",
      "metadata": {
        "id": "ibhOZk7To5X0"
      },
      "source": [
        ""
      ]
    },
    {
      "cell_type": "code",
      "metadata": {
        "colab": {
          "base_uri": "https://localhost:8080/"
        },
        "id": "4PjjEr75o5-W",
        "outputId": "f14df45a-f0a3-49e5-a618-6c995d40448b"
      },
      "source": [
        "i=3\n",
        "sum=0\n",
        "acum=0\n",
        "multiplos=[ ]\n",
        "\n",
        "while acum < 10:\n",
        "    if i%3==0:\n",
        "        multiplos.append(i)\n",
        "        sum = sum +i\n",
        "        acum = acum + 1\n",
        "    i=i+1\n",
        "\n",
        "print(\"\\nPrimeros multiplos del 3 son: \", multiplos)\n",
        "print(\"\\nSuma de los multiplos obtenidos: \", sum)"
      ],
      "execution_count": 6,
      "outputs": [
        {
          "output_type": "stream",
          "text": [
            "\n",
            "Primeros multiplos del 3 son:  [3, 6, 9, 12, 15, 18, 21, 24, 27, 30]\n",
            "\n",
            "Suma de los multiplos obtenidos:  165\n"
          ],
          "name": "stdout"
        }
      ]
    },
    {
      "cell_type": "markdown",
      "metadata": {
        "id": "k041cu9_pp5x"
      },
      "source": [
        "# **Ejercicio 4**\n",
        "Con una función de if else, revisar si un número es par o es impar.\n",
        "Con una función de if else, revisar si un número es primo o no."
      ]
    },
    {
      "cell_type": "markdown",
      "metadata": {
        "id": "R2ukpgscp2pF"
      },
      "source": [
        ""
      ]
    },
    {
      "cell_type": "code",
      "metadata": {
        "colab": {
          "base_uri": "https://localhost:8080/"
        },
        "id": "vSPmjCPhp3Kw",
        "outputId": "8c9a2379-e48a-4de6-b866-9b11fcab9824"
      },
      "source": [
        "print(\"Revisar si un numero es par o impar\")\n",
        "\n",
        "numero=int(input(\"Introduzcca un numero: \"))\n",
        "if(numero%2==0):\n",
        "    print(\"\\nSu numero es par\")\n",
        "     \n",
        "else:\n",
        "    print(\"\\nSu numero es impar\")\n",
        "pri=0\n",
        "for n in range (1, numero+1):\n",
        "    if numero%n==0:\n",
        "        pri=pri+1\n",
        "\n",
        "if pri==2:\n",
        "    print(\"\\n\", numero, \"es un número primo.\")\n",
        "else:\n",
        "    print(\"\\n\", numero, \"no es un número primo.\")"
      ],
      "execution_count": 7,
      "outputs": [
        {
          "output_type": "stream",
          "text": [
            "Revisar si un numero es par o impar\n",
            "Introduzcca un numero: 7\n",
            "\n",
            "Su numero es impar\n",
            "\n",
            " 7 es un número primo.\n"
          ],
          "name": "stdout"
        }
      ]
    },
    {
      "cell_type": "markdown",
      "metadata": {
        "id": "3eZoeNsVrRc5"
      },
      "source": [
        "# **Ejercicio 5**\n",
        "Utilizando diferentes clases en python, crea una calculadora con los operadores básicos de suma, resta, multiplicación, división, y exponente."
      ]
    },
    {
      "cell_type": "code",
      "metadata": {
        "colab": {
          "base_uri": "https://localhost:8080/"
        },
        "id": "pfbMeqiBrbs7",
        "outputId": "8870134e-7a84-43fd-e33d-ffe81d340bff"
      },
      "source": [
        "class calculadora:\n",
        "    def sumar(self, x, y):\n",
        "        print ('El resultado de la suma es igual a: '+str((x+y)) )\n",
        "    def restar(self, x, y):\n",
        "        print ('El resultado de la resta es igual a: '+str((x-y)) )\n",
        "    def multiplicar(self, x, y):\n",
        "        print ('El resultado de la multiplicacion es igual a: '+str((x*y)) )\n",
        "    def dividir(self, x, y):\n",
        "        print ('El resultado de la division es igual a: '+str((x/y)) )\n",
        "    def exponente(self, x, y):\n",
        "        print ('El resultado de elevar a una potencia es igual a: '+str((x**y)) )\n",
        "print(\"Calculadora\")\n",
        "calcu= calculadora()\n",
        "def menu():\n",
        "    print(\"\"\"\n",
        "    ¿Que desea realizar?\n",
        "    1) Sumar \n",
        "    2) Restar \n",
        "    3) Multiplicar \n",
        "    4) Dividir\n",
        "    5) El exponente de los numeros \n",
        "    6) Salir\n",
        "    \"\"\")\n",
        "    return int(input('Introduce una opcion: '))\n",
        "\n",
        "while(True):\n",
        "    opcion= menu()\n",
        "    if(opcion==6):\n",
        "        break\n",
        "    else:\n",
        "        n1= int(input('Ingresa el primer número: '))\n",
        "        n2= int(input('Ingresa el segundo número: '))\n",
        "        \n",
        "        if(opcion==1):\n",
        "            calcu.sumar(n1, n2)\n",
        "        elif(opcion==2):\n",
        "            calcu.restar(n1, n2)\n",
        "        elif(opcion==3):\n",
        "            calcu.multiplicar(n1, n2)\n",
        "        elif(opcion==4):\n",
        "            calcu.dividir(n1, n2)\n",
        "        elif(opcion==5):\n",
        "            calcu.exponente(n1, n2)\n",
        "        else:\n",
        "            print('Opción no valida')"
      ],
      "execution_count": 8,
      "outputs": [
        {
          "output_type": "stream",
          "text": [
            "Calculadora\n",
            "\n",
            "    ¿Que desea realizar?\n",
            "    1) Sumar \n",
            "    2) Restar \n",
            "    3) Multiplicar \n",
            "    4) Dividir\n",
            "    5) El exponente de los numeros \n",
            "    6) Salir\n",
            "    \n",
            "Introduce una opcion: 2\n",
            "Ingresa el primer número: 56\n",
            "Ingresa el segundo número: 38\n",
            "El resultado de la resta es igual a: 18\n",
            "\n",
            "    ¿Que desea realizar?\n",
            "    1) Sumar \n",
            "    2) Restar \n",
            "    3) Multiplicar \n",
            "    4) Dividir\n",
            "    5) El exponente de los numeros \n",
            "    6) Salir\n",
            "    \n",
            "Introduce una opcion: 6\n"
          ],
          "name": "stdout"
        }
      ]
    },
    {
      "cell_type": "markdown",
      "metadata": {
        "id": "lcwdigvWvXHB"
      },
      "source": [
        "# **Ejercicios con estructuras básicas de python**\n"
      ]
    },
    {
      "cell_type": "markdown",
      "metadata": {
        "id": "f-ySvY3Fvhps"
      },
      "source": [
        "# Tuplas"
      ]
    },
    {
      "cell_type": "markdown",
      "metadata": {
        "id": "77CY_8V_vlsp"
      },
      "source": [
        "\n",
        "\n",
        "> Crear una variable flotante, integer, boleana y compleja e imprimir el tipo de variable que es.\n"
      ]
    },
    {
      "cell_type": "code",
      "metadata": {
        "colab": {
          "base_uri": "https://localhost:8080/"
        },
        "id": "opvl4_rlv2Lk",
        "outputId": "75477a72-20ba-400b-bb35-3c0b568fc1db"
      },
      "source": [
        "x=86.79 \n",
        "tip1=type(x)\n",
        "\n",
        "y=751 \n",
        "tip2=type(y)\n",
        "\n",
        "IscodingFun=True \n",
        "tip3=type(IscodingFun)\n",
        "\n",
        "Complex=657+4j \n",
        "tip4=type(Complex)\n",
        "\n",
        "#imprimir los tipos \n",
        "print (\"La variable \",x, \" es de tipo\",tip1)\n",
        "print(\"La variable \",y, \" es de tipo\", tip2)\n",
        "print(\"La variable \",IscodingFun,\" es de tipo\",tip3)\n",
        "print(\"La variable \", Complex, \" es de tipo\", tip4)"
      ],
      "execution_count": 9,
      "outputs": [
        {
          "output_type": "stream",
          "text": [
            "La variable  86.79  es de tipo <class 'float'>\n",
            "La variable  751  es de tipo <class 'int'>\n",
            "La variable  True  es de tipo <class 'bool'>\n",
            "La variable  (657+4j)  es de tipo <class 'complex'>\n"
          ],
          "name": "stdout"
        }
      ]
    },
    {
      "cell_type": "markdown",
      "metadata": {
        "id": "29XeAEYLvw4L"
      },
      "source": [
        "\n",
        "\n",
        "\n",
        "> Crear una tupla con valores enteros imprimir el primer y ultimo valor.\n",
        "\n",
        "\n",
        "\n"
      ]
    },
    {
      "cell_type": "code",
      "metadata": {
        "colab": {
          "base_uri": "https://localhost:8080/"
        },
        "id": "bFyE6soZxR9F",
        "outputId": "3b516ae2-9021-4586-8094-ae3710ade1cc"
      },
      "source": [
        "tupla = (1,2,3,4,5)\n",
        "print(\"El primer valor de la tupla es:\",tupla[0], \"y el último es:\",tupla[4],\"\\n\")"
      ],
      "execution_count": 10,
      "outputs": [
        {
          "output_type": "stream",
          "text": [
            "El primer valor de la tupla es: 1 y el último es: 5 \n",
            "\n"
          ],
          "name": "stdout"
        }
      ]
    },
    {
      "cell_type": "markdown",
      "metadata": {
        "id": "lcTOpCu4xuYE"
      },
      "source": [
        "\n",
        "\n",
        "> Añadir 3 valores de string a la tupla.\n",
        "\n"
      ]
    },
    {
      "cell_type": "code",
      "metadata": {
        "colab": {
          "base_uri": "https://localhost:8080/"
        },
        "id": "tHL4CfMrx4Ih",
        "outputId": "4796ab20-08b8-45d8-c0c6-941f3f4965ef"
      },
      "source": [
        "\n",
        "\n",
        "print(\"¿Que valores string deseas añadir a la tupla\")\n",
        "v1= str(input('Ingresa el primer valor: '))\n",
        "v2= str(input('Ingresa el segundo valor: '))\n",
        "v3= str(input('Ingresa el tercer valor: '))\n",
        "\n",
        "tupla=(1,2,3,4,5,v1,v2,v3)\n",
        "print(tupla)"
      ],
      "execution_count": 13,
      "outputs": [
        {
          "output_type": "stream",
          "text": [
            "¿Que valores string deseas añadir a la tupla\n",
            "Ingresa el primer valor: ha\n",
            "Ingresa el segundo valor: ho\n",
            "Ingresa el tercer valor: hi\n",
            "(1, 2, 3, 4, 5, 'ha', 'ho', 'hi')\n"
          ],
          "name": "stdout"
        }
      ]
    },
    {
      "cell_type": "markdown",
      "metadata": {
        "id": "McuMkdwizu_P"
      },
      "source": [
        "\n",
        "\n",
        "> Verificar si una variable existe dentro de la tupla.\n",
        "\n"
      ]
    },
    {
      "cell_type": "code",
      "metadata": {
        "colab": {
          "base_uri": "https://localhost:8080/"
        },
        "id": "1ljLJVK8z1DL",
        "outputId": "2a0756bb-1b69-4615-944e-f8ed01a4ce16"
      },
      "source": [
        "tupla=('a','b','c','d','f')\n",
        "x=str(input(\"Ingrese un dato a buscar:\"))\n",
        "if ((x in tupla)==True):\n",
        "    print(\"su dato fue encontrado en la tupla\")\n",
        "else:\n",
        "    print(\"su dato no fue encontrado en la tupla\")"
      ],
      "execution_count": 14,
      "outputs": [
        {
          "output_type": "stream",
          "text": [
            "Ingrese un dato a buscar:c\n",
            "su dato fue encontrado en la tupla\n"
          ],
          "name": "stdout"
        }
      ]
    },
    {
      "cell_type": "markdown",
      "metadata": {
        "id": "5ZQEKBmk5zEH"
      },
      "source": [
        "# Listas"
      ]
    },
    {
      "cell_type": "markdown",
      "metadata": {
        "id": "J7bq59Kj5_YB"
      },
      "source": [
        "\n",
        "> Crear una lista con 40 elementos aleatorios enteros.\n",
        "\n"
      ]
    },
    {
      "cell_type": "code",
      "metadata": {
        "colab": {
          "base_uri": "https://localhost:8080/"
        },
        "id": "TlK0XisO6D6k",
        "outputId": "e708d74a-b2f1-4286-d883-75f35802fdf0"
      },
      "source": [
        "import random\n",
        "lista=[random.randint(0,3928) for i in range(40)]\n",
        "\n",
        "print(\"Los 40 elementos de la lista son:\",lista)"
      ],
      "execution_count": 15,
      "outputs": [
        {
          "output_type": "stream",
          "text": [
            "Los 40 elementos de la lista son: [3860, 2735, 2849, 3627, 351, 1510, 1981, 3417, 2505, 153, 3452, 3448, 2141, 946, 409, 1131, 2922, 116, 2343, 680, 3021, 755, 2525, 1832, 3392, 906, 1960, 66, 1072, 830, 2361, 971, 2269, 2244, 2791, 2738, 147, 1793, 3373, 2153]\n"
          ],
          "name": "stdout"
        }
      ]
    },
    {
      "cell_type": "markdown",
      "metadata": {
        "id": "Wp9TwO756Uof"
      },
      "source": [
        "\n",
        "\n",
        "> Con una funcion (def) crear dos listas nuevas a partir de la lista creada por numeros aleatorios, en la cual en una esten los elementos pares, y en la otra los elementos impares.\n",
        "\n"
      ]
    },
    {
      "cell_type": "code",
      "metadata": {
        "colab": {
          "base_uri": "https://localhost:8080/"
        },
        "id": "G3G5l-Wm8COB",
        "outputId": "15872319-1b5c-478f-a838-d0ab4a5e5aff"
      },
      "source": [
        "lista=[random.randint(0,3928) for i in range(40)]\n",
        "listpar=[]\n",
        "listimpar=[]\n",
        "def listas():\n",
        "    for i in range(40):\n",
        "        h=lista[i]%2\n",
        "        if h==0:\n",
        "            listpar.append(lista[i])\n",
        "        else:\n",
        "            listimpar.append(lista[i])\n",
        "\n",
        "    print(\"La lista de numeros pares aleatorios es:\",listpar)\n",
        "    print(\"La lista de numeros impares aleatorios es:\",listimpar)\n",
        "listas()"
      ],
      "execution_count": 16,
      "outputs": [
        {
          "output_type": "stream",
          "text": [
            "La lista de numeros pares aleatorios es: [3522, 2080, 3174, 6, 2396, 2428, 3120, 1014, 436, 1578, 3104, 3378, 3036, 1142, 3428, 1292, 2926, 2872, 1472]\n",
            "La lista de numeros impares aleatorios es: [3413, 113, 2219, 2121, 3201, 681, 2361, 1121, 485, 2637, 1829, 2699, 121, 3683, 2599, 1211, 1741, 1483, 2695, 2087, 81]\n"
          ],
          "name": "stdout"
        }
      ]
    },
    {
      "cell_type": "markdown",
      "metadata": {
        "id": "FTAT4mut8inT"
      },
      "source": [
        "\n",
        "\n",
        "> Crear dos variables con la longitud de ambas listas nuevas e imprimir las variables.\n",
        "\n"
      ]
    },
    {
      "cell_type": "code",
      "metadata": {
        "colab": {
          "base_uri": "https://localhost:8080/"
        },
        "id": "yq-HMxVJ8rMH",
        "outputId": "c58d0ea4-3ca4-4c0c-f9af-50fb72f0be71"
      },
      "source": [
        "listapar= [3522, 2080, 3174, 6, 2396, 2428, 3120, 1014, 436, 1578, 3104, 3378, 3036, 1142, 3428, 1292, 2926, 2872, 1472]\n",
        "listaimpar= [3413, 113, 2219, 2121, 3201, 681, 2361, 1121, 485, 2637, 1829, 2699, 121, 3683, 2599, 1211, 1741, 1483, 2695, 2087, 81]\n",
        "\n",
        "lon1=len(listapar)\n",
        "lon2=len(listaimpar)\n",
        "\n",
        "print(\"la longitud de la lista 1 es:\",lon1)\n",
        "print(\"la longitud de la lista 2 es:\", lon2)\n"
      ],
      "execution_count": 17,
      "outputs": [
        {
          "output_type": "stream",
          "text": [
            "la longitud de la lista 1 es: 19\n",
            "la longitud de la lista 2 es: 21\n"
          ],
          "name": "stdout"
        }
      ]
    },
    {
      "cell_type": "markdown",
      "metadata": {
        "id": "C0AsddKU-hC0"
      },
      "source": [
        "\n",
        "\n",
        "> Ordenar los elementos de la lista par de mayor a menor, y los de la lista impar de menor a mayor.\n",
        "\n"
      ]
    },
    {
      "cell_type": "code",
      "metadata": {
        "colab": {
          "base_uri": "https://localhost:8080/"
        },
        "id": "oj807foB-oBb",
        "outputId": "9a48f8c3-e3a3-4bd5-8120-fdeb4472c3ef"
      },
      "source": [
        "listapar= [3522, 2080, 3174, 6, 2396, 2428, 3120, 1014, 436, 1578, 3104, 3378, 3036, 1142, 3428, 1292, 2926, 2872, 1472]\n",
        "listaimpar= [3413, 113, 2219, 2121, 3201, 681, 2361, 1121, 485, 2637, 1829, 2699, 121, 3683, 2599, 1211, 1741, 1483, 2695, 2087, 81]\n",
        "\n",
        "listapar.sort(reverse=True)\n",
        "listaimpar.sort()\n",
        "print(\"Lista par:\", listapar)\n",
        "print(\"Lista impar\", listaimpar)\n"
      ],
      "execution_count": 19,
      "outputs": [
        {
          "output_type": "stream",
          "text": [
            "Lista par: [3522, 3428, 3378, 3174, 3120, 3104, 3036, 2926, 2872, 2428, 2396, 2080, 1578, 1472, 1292, 1142, 1014, 436, 6]\n",
            "Lista impar [81, 113, 121, 485, 681, 1121, 1211, 1483, 1741, 1829, 2087, 2121, 2219, 2361, 2599, 2637, 2695, 2699, 3201, 3413, 3683]\n"
          ],
          "name": "stdout"
        }
      ]
    },
    {
      "cell_type": "markdown",
      "metadata": {
        "id": "KaTtYeRsK8rv"
      },
      "source": [
        "\n",
        "\n",
        "> Utilizar al menos cuatro de las funciones de listas en python en la lista original de 40 elementos.\n",
        "\n"
      ]
    },
    {
      "cell_type": "code",
      "metadata": {
        "colab": {
          "base_uri": "https://localhost:8080/"
        },
        "id": "-KjEgVUmLCpY",
        "outputId": "b6d70c61-6958-409a-fc45-e3f9387185fc"
      },
      "source": [
        "lista=[3860, 2735, 2849, 3627, 351, 1510, 1981, 3417, 2505, 153, 3452, 3448, 2141, 946, 409, 1131, 2922, 116, 2343, 680, 3021, 755, 2525, 1832, 3392, 906, 1960, 66, 1072, 830, 2361, 971, 2269, 2244, 2791, 2738, 147, 1793, 3373, 2153]\n",
        "longitud=len(lista)\n",
        "lista.reverse()\n",
        "lista.append(52)\n",
        "\n",
        "print(\"Longitud de la lista:\",longitud)\n",
        "print(\"Imprimir lista al reves: \",lista)\n",
        "\n",
        "print(\"Numero mayor de los datos:\",max(lista),\"\\nNumero menor de los datos:\",min(lista))\n"
      ],
      "execution_count": 23,
      "outputs": [
        {
          "output_type": "stream",
          "text": [
            "Longitud de la lista: 40\n",
            "Imprimir lista al reves:  [2153, 3373, 1793, 147, 2738, 2791, 2244, 2269, 971, 2361, 830, 1072, 66, 1960, 906, 3392, 1832, 2525, 755, 3021, 680, 2343, 116, 2922, 1131, 409, 946, 2141, 3448, 3452, 153, 2505, 3417, 1981, 1510, 351, 3627, 2849, 2735, 3860, 52]\n",
            "Numero mayor de los datos: 3860 \n",
            "Numero menor de los datos: 52\n"
          ],
          "name": "stdout"
        }
      ]
    },
    {
      "cell_type": "markdown",
      "metadata": {
        "id": "aIavvKYeOLCn"
      },
      "source": [
        "# Diccionarios"
      ]
    },
    {
      "cell_type": "markdown",
      "metadata": {
        "id": "PwUpAOymOmU_"
      },
      "source": [
        "\n",
        "\n",
        "\n",
        "\n",
        "> Crear un diccionario de 6 personas que conozcas con su primer nombre y su edad.\n",
        "\n",
        "\n",
        "\n"
      ]
    },
    {
      "cell_type": "code",
      "metadata": {
        "colab": {
          "base_uri": "https://localhost:8080/"
        },
        "id": "cFdwdJaTOlWK",
        "outputId": "a75ff5da-84f3-4149-c1d4-427586599554"
      },
      "source": [
        "dicc={'Emanuel':'21','Diego':'20','Andres':'21','Frida':'20','Paola':'21','Fabiola':'20'}\n",
        "print(dicc)"
      ],
      "execution_count": 24,
      "outputs": [
        {
          "output_type": "stream",
          "text": [
            "{'Emanuel': '21', 'Diego': '20', 'Andres': '21', 'Frida': '20', 'Paola': '21', 'Fabiola': '20'}\n"
          ],
          "name": "stdout"
        }
      ]
    },
    {
      "cell_type": "markdown",
      "metadata": {
        "id": "83S8RKPzPd2y"
      },
      "source": [
        "\n",
        "\n",
        "> Crear una lista con los valores de la edad y reacomodar la lista de menor a mayor valor.\n",
        "\n"
      ]
    },
    {
      "cell_type": "code",
      "metadata": {
        "colab": {
          "base_uri": "https://localhost:8080/"
        },
        "id": "EiqpiMKxPmWD",
        "outputId": "48af7287-0282-4412-b6cf-b5dd2cfc3c06"
      },
      "source": [
        "dicc={'Emanuel':22,'Diego':20,'Andres':21,'Frida':20,'Paola':21,'Fabiola':20}\n",
        "edad=[]\n",
        "\n",
        "for i in dicc:\n",
        "    if type(dicc[i]) == type(98):\n",
        "        edad.append(dicc[i])\n",
        "edad.sort()\n",
        "print(\"Las edades son:\",edad)"
      ],
      "execution_count": 27,
      "outputs": [
        {
          "output_type": "stream",
          "text": [
            "Las edades son: [20, 20, 20, 21, 21, 22]\n"
          ],
          "name": "stdout"
        }
      ]
    },
    {
      "cell_type": "markdown",
      "metadata": {
        "id": "06SGAMhBQcvJ"
      },
      "source": [
        "\n",
        "\n",
        "> Usando el diccionario y un loop, imprimir solo los nombres.\n",
        "\n"
      ]
    },
    {
      "cell_type": "code",
      "metadata": {
        "colab": {
          "base_uri": "https://localhost:8080/"
        },
        "id": "KOOjSp4FQoIG",
        "outputId": "18c6c089-1e6d-42eb-d80c-99585ed8415c"
      },
      "source": [
        "dicc={'Emanuel':22,'Diego':20,'Andres':21,'Frida':20,'Paola':21,'Fabiola':20}\n",
        "Nombres=dicc.keys()\n",
        "\n",
        "print(Nombres)"
      ],
      "execution_count": 28,
      "outputs": [
        {
          "output_type": "stream",
          "text": [
            "dict_keys(['Emanuel', 'Diego', 'Andres', 'Frida', 'Paola', 'Fabiola'])\n"
          ],
          "name": "stdout"
        }
      ]
    },
    {
      "cell_type": "markdown",
      "metadata": {
        "id": "eF19G-efRIuk"
      },
      "source": [
        "\n",
        "\n",
        "> Añadir dos personas nuevas a tu diccionario, incluyendo edad.\n",
        "\n"
      ]
    },
    {
      "cell_type": "code",
      "metadata": {
        "colab": {
          "base_uri": "https://localhost:8080/"
        },
        "id": "ZsBo9M4rRO7X",
        "outputId": "be7f88b6-90ab-4944-decc-88d7525f3795"
      },
      "source": [
        "dicc={'Emanuel':22,'Diego':20,'Andres':21,'Frida':20,'Paola':21,'Fabiola':20}\n",
        "dicc['Regina']=15\n",
        "dicc['Ana']=18\n",
        "\n",
        "print(dicc)"
      ],
      "execution_count": 29,
      "outputs": [
        {
          "output_type": "stream",
          "text": [
            "{'Emanuel': 22, 'Diego': 20, 'Andres': 21, 'Frida': 20, 'Paola': 21, 'Fabiola': 20, 'Regina': 15, 'Ana': 18}\n"
          ],
          "name": "stdout"
        }
      ]
    },
    {
      "cell_type": "markdown",
      "metadata": {
        "id": "j4hqfKZgR_UR"
      },
      "source": [
        "# Sets"
      ]
    },
    {
      "cell_type": "markdown",
      "metadata": {
        "id": "-axw0HmNSIDT"
      },
      "source": [
        "\n",
        "\n",
        "> Crea un set con 100 numeros aleatorios enteros del 1 al 25.\n",
        "\n"
      ]
    },
    {
      "cell_type": "code",
      "metadata": {
        "colab": {
          "base_uri": "https://localhost:8080/"
        },
        "id": "3uAkO_e7SGbm",
        "outputId": "f267a1aa-b2e4-4081-987d-506bbf162c30"
      },
      "source": [
        "import random\n",
        "def listaSets(AB):\n",
        "    lista = [0]  * AB\n",
        "    for i in range(AB):\n",
        "          lista[i] = random.randint(1, 25)\n",
        "    return lista\n",
        "\n",
        "print(\"Ingrese cuantos numeros aleatorios desea obtener\")\n",
        "AB=int(input())\n",
        "\n",
        "\n",
        "secs=set(secs)\n",
        "print(secs)"
      ],
      "execution_count": 31,
      "outputs": [
        {
          "output_type": "stream",
          "text": [
            "Ingrese cuantos numeros aleatorios desea obtener\n",
            "15\n",
            "{17, 22, 23, 24, 11}\n"
          ],
          "name": "stdout"
        }
      ]
    },
    {
      "cell_type": "markdown",
      "metadata": {
        "id": "gQ3WSu2uTkcX"
      },
      "source": [
        "\n",
        "\n",
        "> Comprueba la longitud de tu set\n",
        "\n"
      ]
    },
    {
      "cell_type": "code",
      "metadata": {
        "colab": {
          "base_uri": "https://localhost:8080/"
        },
        "id": "yPhrwglWTtbs",
        "outputId": "f65fab27-3874-411d-8046-4785ecb2876a"
      },
      "source": [
        "import random as sete\n",
        "p=set()\n",
        "for i in range(100):\n",
        "    s=sete.randint(1,25)\n",
        "    p.add(s)\n",
        "\n",
        "print(\"La longitud es:\",len(p))\n"
      ],
      "execution_count": 32,
      "outputs": [
        {
          "output_type": "stream",
          "text": [
            "La longitud es: 25\n"
          ],
          "name": "stdout"
        }
      ]
    },
    {
      "cell_type": "markdown",
      "metadata": {
        "id": "KQkAiBtlUM6T"
      },
      "source": [
        "\n",
        "\n",
        "> Crea una lista de 5 numeros aleatorios del 1 al 10 y comprueba si cada valor aparece en el set inicial.\n",
        "\n",
        "\n",
        "\n",
        "\n"
      ]
    },
    {
      "cell_type": "code",
      "metadata": {
        "colab": {
          "base_uri": "https://localhost:8080/"
        },
        "id": "2RTfQBWHUZip",
        "outputId": "bc3e5a92-1c6e-42da-9c12-286960b4d55e"
      },
      "source": [
        "lista = []\n",
        "\n",
        "for i in range(5):\n",
        "    lista.append(sete.randint(1,10))\n",
        "    if lista[i] in p:\n",
        "        print(\"El numero\", lista[i],\"aparece en el set.\")\n",
        "    else:\n",
        "        print(\"El numero\", lista[i],\"No aparece en el set.\")"
      ],
      "execution_count": 34,
      "outputs": [
        {
          "output_type": "stream",
          "text": [
            "El numero 2 aparece en el set.\n",
            "El numero 10 aparece en el set.\n",
            "El numero 8 aparece en el set.\n",
            "El numero 4 aparece en el set.\n",
            "El numero 4 aparece en el set.\n"
          ],
          "name": "stdout"
        }
      ]
    }
  ]
}