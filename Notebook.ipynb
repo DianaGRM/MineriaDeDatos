{
  "nbformat": 4,
  "nbformat_minor": 0,
  "metadata": {
    "colab": {
      "name": "Notebook.ipynb",
      "provenance": [],
      "collapsed_sections": [],
      "authorship_tag": "ABX9TyNkX1UGmO8+y7CuMhisRwxy",
      "include_colab_link": true
    },
    "kernelspec": {
      "name": "python3",
      "display_name": "Python 3"
    },
    "language_info": {
      "name": "python"
    }
  },
  "cells": [
    {
      "cell_type": "markdown",
      "metadata": {
        "id": "view-in-github",
        "colab_type": "text"
      },
      "source": [
        "<a href=\"https://colab.research.google.com/github/DianaGRM/MineriaDeDatos/blob/main/Notebook.ipynb\" target=\"_parent\"><img src=\"https://colab.research.google.com/assets/colab-badge.svg\" alt=\"Open In Colab\"/></a>"
      ]
    },
    {
      "cell_type": "markdown",
      "metadata": {
        "id": "qMINcTnyMcvX"
      },
      "source": [
        "# **Equipo 12**"
      ]
    },
    {
      "cell_type": "markdown",
      "metadata": {
        "id": "AQFc5d1l1AL-"
      },
      "source": [
        "# **1941564, Ramírez Moreno Diana Gabriela**"
      ]
    },
    {
      "cell_type": "markdown",
      "metadata": {
        "id": "4F5Vukyf1Dhe"
      },
      "source": [
        "**Grupo 001- Lunes 7:00-10:00 PM**"
      ]
    },
    {
      "cell_type": "markdown",
      "metadata": {
        "id": "zY9Zy47h2oHF"
      },
      "source": [
        "# **Título de la base de datos y el póster**\n",
        "\n",
        "\n",
        "**Nombre de base de datos**: Student Alcohol Consumption\n",
        "\n",
        "**Url**: https://www.kaggle.com/uciml/student-alcohol-consumption\n",
        "\n",
        "**Título del poster**: Consumo de alcohol en adolescentes\n"
      ]
    },
    {
      "cell_type": "markdown",
      "metadata": {
        "id": "YW8TDf_K5Nb3"
      },
      "source": [
        "**Introdución General**\n",
        "\n",
        "El consumo de alcohol se encuentra dentro de los diez principales factores de riesgo de muerte y discapacidad en todo el mundo. En el 2015, el consumo de alcohol provocó 44,700 muertes (6.5% del total) y 5.2% (1.5 millones) de los años de vida saludables perdidos (AVISA) en México. El grupo de edad con mayor carga atribuible a este factor fue el de 15 a 49 años.\n",
        "\n",
        "Más allá de las consecuencias a la salud, el consumo prolongado de alcohol provoca pérdidas en el aspecto social y económico que son de vital importancia para la vida en sociedad. \n",
        "\n",
        "En México, el consumo de alcohol forma parte de la vida cotidiana y propone ser un tema de círculo vicioso que aumenta con seriedad, buscando ser lo más próximamente atendido, no solamente en su efecto sino en sus medidas preventivas. Específicamente, en estudiantes, representa una gran amenaza con las suficientes consecuencias negativas ante el rendimiento académico, influencia producto de un comportamiento socialmente aceptado, que afecta de forma directa la productividad personal y el desarrollo del grado y calidad estudiantil."
      ]
    },
    {
      "cell_type": "markdown",
      "metadata": {
        "id": "OE5KKqQz5Tu9"
      },
      "source": [
        "# **Descripcion de los datos**\n",
        "\n",
        "En esta base de datos la mayoría de los datos son numéricos, algunos representan intervalos correspondientes a los datos registrados en las columnas como por ejemplo en la columna Tiempo_estudio se encuentran números del 1-4, estos quieren decir que 1._ <2 horas, 2._ 2 a 5 horas, 3._ 5 a 10 horas, o 4._ >10 horas) o en la columna de Dalc que mide el consumo de alcohol en el día de trabajo, que va desde 1: muy bajo, hasta 5: muy alto. También están las columnas que cuentan con datos binarios, esto quiere decir que tienen como respuesta si o no, 1 o 0, en el caso de la columna de sexo también su tipo de  datos es binario ya que es F: mujer o M: hombre.\n",
        "\n",
        "Esta base de datos cuenta con 33 columnas y un total de 395 filas que corresponderían a los 395 alumnos que participan en la base de datos. Elimine las columnas que yo considere innecesarias para mi objetivo, porque contienen información que me parece irrelevante o con poca relación con los niveles del consumo de alcohol de los estudiantes, como por ejemplo la dirección, escuela, el trabajo de los padres, si fue a la guardería, si tiene internet, etc. Al final mi base de datos me quedo de 17 columnas y 395 filas. \n"
      ]
    },
    {
      "cell_type": "markdown",
      "metadata": {
        "id": "Jr8ztaZlLgtI"
      },
      "source": [
        "# ***Justificación del uso de los datos***\n",
        "\n",
        "Esta base de datos me llamo la atención porque cuenta con muy pocos datos nulos, es sencilla de entender y muestra bastantes factores sobre los estudiantes para lograr el objetivo.\n",
        "\n",
        "Me parecieron interesantes ciertas variables que creo que son bastante influyentes en este tema, tales como la calidad de las relaciones familiares, el tiempo que dedica el alumno al estudio, consumo de alcohol en fin de semana, estado de convivencia de los padres, las calificaciones obtenidas en los periodos.\n",
        "\n",
        "Se puede encontrar lo que lleva a los jovenes a consumir alcohol o ver cuál es el perfil en el que encaja un estudiante que consume alcohol los fines de semana para así poder informar a este tipo de estudiantes lo dañino que es consumir alcohol en grandes cantidades y de manera regular.\n"
      ]
    },
    {
      "cell_type": "markdown",
      "metadata": {
        "id": "jHgQ4T79P_s_"
      },
      "source": [
        "# **Objetivos principales y secundarios**\n",
        "\n",
        "**Principal**: Predecir que tipo de perfil de estudiante es mas propenso a consumir grandes cantidades de alcohol los fines de semana, a partir de sus carateristicas mencionadas en la base de datos \n",
        "\n",
        "**Secundario**: Informar a los estudiantes para que hagan conciencia sobre su consumo de alcohol  "
      ]
    },
    {
      "cell_type": "markdown",
      "metadata": {
        "id": "-w6UgZdkRiFV"
      },
      "source": [
        "# **Desarrollo de las herramientas**"
      ]
    },
    {
      "cell_type": "markdown",
      "metadata": {
        "id": "BGY8o5Vtl6qC"
      },
      "source": [
        "# **Limpieza de datos**"
      ]
    },
    {
      "cell_type": "code",
      "metadata": {
        "id": "kcY9EAV20rAt"
      },
      "source": [
        "from google.colab import  files\n",
        "import pandas as pd\n",
        "import numpy \n",
        "import json"
      ],
      "execution_count": null,
      "outputs": []
    },
    {
      "cell_type": "markdown",
      "metadata": {
        "id": "eTDN0pAfR2ZC"
      },
      "source": [
        "***Base de datos sin manipulación***\n",
        "\n",
        "A continuación mandamos llamar a la base de datos "
      ]
    },
    {
      "cell_type": "code",
      "metadata": {
        "id": "nK_KIsQcSDUd"
      },
      "source": [
        "BASE = pd.read_csv(\"student-mat.csv\")\n"
      ],
      "execution_count": null,
      "outputs": []
    },
    {
      "cell_type": "code",
      "metadata": {
        "colab": {
          "base_uri": "https://localhost:8080/",
          "height": 375
        },
        "id": "XMu4T5-jS_9q",
        "outputId": "482b1f1c-fe65-4a14-dfc3-c89cb33c479d"
      },
      "source": [
        "# 10 primeros datos de la tabla para tener una visualización de los datos que vamos a estar trabajando  \n",
        "BASE.head(10)"
      ],
      "execution_count": null,
      "outputs": [
        {
          "output_type": "execute_result",
          "data": {
            "text/html": [
              "<div>\n",
              "<style scoped>\n",
              "    .dataframe tbody tr th:only-of-type {\n",
              "        vertical-align: middle;\n",
              "    }\n",
              "\n",
              "    .dataframe tbody tr th {\n",
              "        vertical-align: top;\n",
              "    }\n",
              "\n",
              "    .dataframe thead th {\n",
              "        text-align: right;\n",
              "    }\n",
              "</style>\n",
              "<table border=\"1\" class=\"dataframe\">\n",
              "  <thead>\n",
              "    <tr style=\"text-align: right;\">\n",
              "      <th></th>\n",
              "      <th>school</th>\n",
              "      <th>sex</th>\n",
              "      <th>age</th>\n",
              "      <th>address</th>\n",
              "      <th>famsize</th>\n",
              "      <th>Pstatus</th>\n",
              "      <th>Medu</th>\n",
              "      <th>Fedu</th>\n",
              "      <th>Mjob</th>\n",
              "      <th>Fjob</th>\n",
              "      <th>reason</th>\n",
              "      <th>guardian</th>\n",
              "      <th>traveltime</th>\n",
              "      <th>studytime</th>\n",
              "      <th>failures</th>\n",
              "      <th>schoolsup</th>\n",
              "      <th>famsup</th>\n",
              "      <th>paid</th>\n",
              "      <th>activities</th>\n",
              "      <th>nursery</th>\n",
              "      <th>higher</th>\n",
              "      <th>internet</th>\n",
              "      <th>romantic</th>\n",
              "      <th>famrel</th>\n",
              "      <th>freetime</th>\n",
              "      <th>goout</th>\n",
              "      <th>Dalc</th>\n",
              "      <th>Walc</th>\n",
              "      <th>health</th>\n",
              "      <th>absences</th>\n",
              "      <th>G1</th>\n",
              "      <th>G2</th>\n",
              "      <th>G3</th>\n",
              "    </tr>\n",
              "  </thead>\n",
              "  <tbody>\n",
              "    <tr>\n",
              "      <th>0</th>\n",
              "      <td>GP</td>\n",
              "      <td>F</td>\n",
              "      <td>18</td>\n",
              "      <td>U</td>\n",
              "      <td>GT3</td>\n",
              "      <td>A</td>\n",
              "      <td>4</td>\n",
              "      <td>4</td>\n",
              "      <td>at_home</td>\n",
              "      <td>teacher</td>\n",
              "      <td>course</td>\n",
              "      <td>mother</td>\n",
              "      <td>2</td>\n",
              "      <td>2</td>\n",
              "      <td>0</td>\n",
              "      <td>yes</td>\n",
              "      <td>no</td>\n",
              "      <td>no</td>\n",
              "      <td>no</td>\n",
              "      <td>yes</td>\n",
              "      <td>yes</td>\n",
              "      <td>no</td>\n",
              "      <td>no</td>\n",
              "      <td>4</td>\n",
              "      <td>3</td>\n",
              "      <td>4</td>\n",
              "      <td>1</td>\n",
              "      <td>1</td>\n",
              "      <td>3</td>\n",
              "      <td>6</td>\n",
              "      <td>5</td>\n",
              "      <td>6</td>\n",
              "      <td>6</td>\n",
              "    </tr>\n",
              "    <tr>\n",
              "      <th>1</th>\n",
              "      <td>GP</td>\n",
              "      <td>F</td>\n",
              "      <td>17</td>\n",
              "      <td>U</td>\n",
              "      <td>GT3</td>\n",
              "      <td>T</td>\n",
              "      <td>1</td>\n",
              "      <td>1</td>\n",
              "      <td>at_home</td>\n",
              "      <td>other</td>\n",
              "      <td>course</td>\n",
              "      <td>father</td>\n",
              "      <td>1</td>\n",
              "      <td>2</td>\n",
              "      <td>0</td>\n",
              "      <td>no</td>\n",
              "      <td>yes</td>\n",
              "      <td>no</td>\n",
              "      <td>no</td>\n",
              "      <td>no</td>\n",
              "      <td>yes</td>\n",
              "      <td>yes</td>\n",
              "      <td>no</td>\n",
              "      <td>5</td>\n",
              "      <td>3</td>\n",
              "      <td>3</td>\n",
              "      <td>1</td>\n",
              "      <td>1</td>\n",
              "      <td>3</td>\n",
              "      <td>4</td>\n",
              "      <td>5</td>\n",
              "      <td>5</td>\n",
              "      <td>6</td>\n",
              "    </tr>\n",
              "    <tr>\n",
              "      <th>2</th>\n",
              "      <td>GP</td>\n",
              "      <td>F</td>\n",
              "      <td>15</td>\n",
              "      <td>U</td>\n",
              "      <td>LE3</td>\n",
              "      <td>T</td>\n",
              "      <td>1</td>\n",
              "      <td>1</td>\n",
              "      <td>at_home</td>\n",
              "      <td>other</td>\n",
              "      <td>other</td>\n",
              "      <td>mother</td>\n",
              "      <td>1</td>\n",
              "      <td>2</td>\n",
              "      <td>3</td>\n",
              "      <td>yes</td>\n",
              "      <td>no</td>\n",
              "      <td>yes</td>\n",
              "      <td>no</td>\n",
              "      <td>yes</td>\n",
              "      <td>yes</td>\n",
              "      <td>yes</td>\n",
              "      <td>no</td>\n",
              "      <td>4</td>\n",
              "      <td>3</td>\n",
              "      <td>2</td>\n",
              "      <td>2</td>\n",
              "      <td>3</td>\n",
              "      <td>3</td>\n",
              "      <td>10</td>\n",
              "      <td>7</td>\n",
              "      <td>8</td>\n",
              "      <td>10</td>\n",
              "    </tr>\n",
              "    <tr>\n",
              "      <th>3</th>\n",
              "      <td>GP</td>\n",
              "      <td>F</td>\n",
              "      <td>15</td>\n",
              "      <td>U</td>\n",
              "      <td>GT3</td>\n",
              "      <td>T</td>\n",
              "      <td>4</td>\n",
              "      <td>2</td>\n",
              "      <td>health</td>\n",
              "      <td>services</td>\n",
              "      <td>home</td>\n",
              "      <td>mother</td>\n",
              "      <td>1</td>\n",
              "      <td>3</td>\n",
              "      <td>0</td>\n",
              "      <td>no</td>\n",
              "      <td>yes</td>\n",
              "      <td>yes</td>\n",
              "      <td>yes</td>\n",
              "      <td>yes</td>\n",
              "      <td>yes</td>\n",
              "      <td>yes</td>\n",
              "      <td>yes</td>\n",
              "      <td>3</td>\n",
              "      <td>2</td>\n",
              "      <td>2</td>\n",
              "      <td>1</td>\n",
              "      <td>1</td>\n",
              "      <td>5</td>\n",
              "      <td>2</td>\n",
              "      <td>15</td>\n",
              "      <td>14</td>\n",
              "      <td>15</td>\n",
              "    </tr>\n",
              "    <tr>\n",
              "      <th>4</th>\n",
              "      <td>GP</td>\n",
              "      <td>F</td>\n",
              "      <td>16</td>\n",
              "      <td>U</td>\n",
              "      <td>GT3</td>\n",
              "      <td>T</td>\n",
              "      <td>3</td>\n",
              "      <td>3</td>\n",
              "      <td>other</td>\n",
              "      <td>other</td>\n",
              "      <td>home</td>\n",
              "      <td>father</td>\n",
              "      <td>1</td>\n",
              "      <td>2</td>\n",
              "      <td>0</td>\n",
              "      <td>no</td>\n",
              "      <td>yes</td>\n",
              "      <td>yes</td>\n",
              "      <td>no</td>\n",
              "      <td>yes</td>\n",
              "      <td>yes</td>\n",
              "      <td>no</td>\n",
              "      <td>no</td>\n",
              "      <td>4</td>\n",
              "      <td>3</td>\n",
              "      <td>2</td>\n",
              "      <td>1</td>\n",
              "      <td>2</td>\n",
              "      <td>5</td>\n",
              "      <td>4</td>\n",
              "      <td>6</td>\n",
              "      <td>10</td>\n",
              "      <td>10</td>\n",
              "    </tr>\n",
              "    <tr>\n",
              "      <th>5</th>\n",
              "      <td>GP</td>\n",
              "      <td>M</td>\n",
              "      <td>16</td>\n",
              "      <td>U</td>\n",
              "      <td>LE3</td>\n",
              "      <td>T</td>\n",
              "      <td>4</td>\n",
              "      <td>3</td>\n",
              "      <td>services</td>\n",
              "      <td>other</td>\n",
              "      <td>reputation</td>\n",
              "      <td>mother</td>\n",
              "      <td>1</td>\n",
              "      <td>2</td>\n",
              "      <td>0</td>\n",
              "      <td>no</td>\n",
              "      <td>yes</td>\n",
              "      <td>yes</td>\n",
              "      <td>yes</td>\n",
              "      <td>yes</td>\n",
              "      <td>yes</td>\n",
              "      <td>yes</td>\n",
              "      <td>no</td>\n",
              "      <td>5</td>\n",
              "      <td>4</td>\n",
              "      <td>2</td>\n",
              "      <td>1</td>\n",
              "      <td>2</td>\n",
              "      <td>5</td>\n",
              "      <td>10</td>\n",
              "      <td>15</td>\n",
              "      <td>15</td>\n",
              "      <td>15</td>\n",
              "    </tr>\n",
              "    <tr>\n",
              "      <th>6</th>\n",
              "      <td>GP</td>\n",
              "      <td>M</td>\n",
              "      <td>16</td>\n",
              "      <td>U</td>\n",
              "      <td>LE3</td>\n",
              "      <td>T</td>\n",
              "      <td>2</td>\n",
              "      <td>2</td>\n",
              "      <td>other</td>\n",
              "      <td>other</td>\n",
              "      <td>home</td>\n",
              "      <td>mother</td>\n",
              "      <td>1</td>\n",
              "      <td>2</td>\n",
              "      <td>0</td>\n",
              "      <td>no</td>\n",
              "      <td>no</td>\n",
              "      <td>no</td>\n",
              "      <td>no</td>\n",
              "      <td>yes</td>\n",
              "      <td>yes</td>\n",
              "      <td>yes</td>\n",
              "      <td>no</td>\n",
              "      <td>4</td>\n",
              "      <td>4</td>\n",
              "      <td>4</td>\n",
              "      <td>1</td>\n",
              "      <td>1</td>\n",
              "      <td>3</td>\n",
              "      <td>0</td>\n",
              "      <td>12</td>\n",
              "      <td>12</td>\n",
              "      <td>11</td>\n",
              "    </tr>\n",
              "    <tr>\n",
              "      <th>7</th>\n",
              "      <td>GP</td>\n",
              "      <td>F</td>\n",
              "      <td>17</td>\n",
              "      <td>U</td>\n",
              "      <td>GT3</td>\n",
              "      <td>A</td>\n",
              "      <td>4</td>\n",
              "      <td>4</td>\n",
              "      <td>other</td>\n",
              "      <td>teacher</td>\n",
              "      <td>home</td>\n",
              "      <td>mother</td>\n",
              "      <td>2</td>\n",
              "      <td>2</td>\n",
              "      <td>0</td>\n",
              "      <td>yes</td>\n",
              "      <td>yes</td>\n",
              "      <td>no</td>\n",
              "      <td>no</td>\n",
              "      <td>yes</td>\n",
              "      <td>yes</td>\n",
              "      <td>no</td>\n",
              "      <td>no</td>\n",
              "      <td>4</td>\n",
              "      <td>1</td>\n",
              "      <td>4</td>\n",
              "      <td>1</td>\n",
              "      <td>1</td>\n",
              "      <td>1</td>\n",
              "      <td>6</td>\n",
              "      <td>6</td>\n",
              "      <td>5</td>\n",
              "      <td>6</td>\n",
              "    </tr>\n",
              "    <tr>\n",
              "      <th>8</th>\n",
              "      <td>GP</td>\n",
              "      <td>M</td>\n",
              "      <td>15</td>\n",
              "      <td>U</td>\n",
              "      <td>LE3</td>\n",
              "      <td>A</td>\n",
              "      <td>3</td>\n",
              "      <td>2</td>\n",
              "      <td>services</td>\n",
              "      <td>other</td>\n",
              "      <td>home</td>\n",
              "      <td>mother</td>\n",
              "      <td>1</td>\n",
              "      <td>2</td>\n",
              "      <td>0</td>\n",
              "      <td>no</td>\n",
              "      <td>yes</td>\n",
              "      <td>yes</td>\n",
              "      <td>no</td>\n",
              "      <td>yes</td>\n",
              "      <td>yes</td>\n",
              "      <td>yes</td>\n",
              "      <td>no</td>\n",
              "      <td>4</td>\n",
              "      <td>2</td>\n",
              "      <td>2</td>\n",
              "      <td>1</td>\n",
              "      <td>1</td>\n",
              "      <td>1</td>\n",
              "      <td>0</td>\n",
              "      <td>16</td>\n",
              "      <td>18</td>\n",
              "      <td>19</td>\n",
              "    </tr>\n",
              "    <tr>\n",
              "      <th>9</th>\n",
              "      <td>GP</td>\n",
              "      <td>M</td>\n",
              "      <td>15</td>\n",
              "      <td>U</td>\n",
              "      <td>GT3</td>\n",
              "      <td>T</td>\n",
              "      <td>3</td>\n",
              "      <td>4</td>\n",
              "      <td>other</td>\n",
              "      <td>other</td>\n",
              "      <td>home</td>\n",
              "      <td>mother</td>\n",
              "      <td>1</td>\n",
              "      <td>2</td>\n",
              "      <td>0</td>\n",
              "      <td>no</td>\n",
              "      <td>yes</td>\n",
              "      <td>yes</td>\n",
              "      <td>yes</td>\n",
              "      <td>yes</td>\n",
              "      <td>yes</td>\n",
              "      <td>yes</td>\n",
              "      <td>no</td>\n",
              "      <td>5</td>\n",
              "      <td>5</td>\n",
              "      <td>1</td>\n",
              "      <td>1</td>\n",
              "      <td>1</td>\n",
              "      <td>5</td>\n",
              "      <td>0</td>\n",
              "      <td>14</td>\n",
              "      <td>15</td>\n",
              "      <td>15</td>\n",
              "    </tr>\n",
              "  </tbody>\n",
              "</table>\n",
              "</div>"
            ],
            "text/plain": [
              "  school sex  age address famsize Pstatus  ...  Walc  health absences  G1  G2  G3\n",
              "0     GP   F   18       U     GT3       A  ...     1       3        6   5   6   6\n",
              "1     GP   F   17       U     GT3       T  ...     1       3        4   5   5   6\n",
              "2     GP   F   15       U     LE3       T  ...     3       3       10   7   8  10\n",
              "3     GP   F   15       U     GT3       T  ...     1       5        2  15  14  15\n",
              "4     GP   F   16       U     GT3       T  ...     2       5        4   6  10  10\n",
              "5     GP   M   16       U     LE3       T  ...     2       5       10  15  15  15\n",
              "6     GP   M   16       U     LE3       T  ...     1       3        0  12  12  11\n",
              "7     GP   F   17       U     GT3       A  ...     1       1        6   6   5   6\n",
              "8     GP   M   15       U     LE3       A  ...     1       1        0  16  18  19\n",
              "9     GP   M   15       U     GT3       T  ...     1       5        0  14  15  15\n",
              "\n",
              "[10 rows x 33 columns]"
            ]
          },
          "metadata": {},
          "execution_count": 17
        }
      ]
    },
    {
      "cell_type": "markdown",
      "metadata": {
        "id": "eJO0kelLmbsH"
      },
      "source": [
        "***Eliminación de columnas no deseadas***"
      ]
    },
    {
      "cell_type": "code",
      "metadata": {
        "id": "6VRLdjvaTIic"
      },
      "source": [
        "\n",
        "nb = BASE.drop(columns=[\"school\",\"address\",\"Medu\",\"Fedu\",\"Mjob\",\"Fjob\",\"reason\",\"guardian\",\"traveltime\",\"schoolsup\",\"famsup\",\"paid\",\"activities\",\"nursery\",\"higher\",\"internet\"]) "
      ],
      "execution_count": null,
      "outputs": []
    },
    {
      "cell_type": "markdown",
      "metadata": {
        "id": "X8AcIKzoV6th"
      },
      "source": [
        "***Explicación***\n",
        "\n",
        "De la base de datos decidí eliminar 16 columnas porque considero que la información que contienen no es relevante para el objetivo planteado porque: \n",
        "\n",
        "* School y Adress: es la escuela en la que el estudiante se encuentra y el tipo de lugar donde se encuentra de domicilio del estudiante, lo considero irrelevante en el análisis ya que el nivel del consumo de alcohol no depende de la escuela en la que este el estudiante ni del tipo de lugar donde se encuentre su casa.\n",
        "* Medu, Fedu, Mjob y Fjob: estas son características de los padres como su nivel educativo y el tipo de trabajo que tienen, como no son características que afecten directamente al estudiante, las elimine. \n",
        "*Reason y traveltime: es la razón por la cual los alumnos decidieron estar en esa institución y traveltime es el  tiempo que tarda el alumno en llegar de su casa a la escuela, como estas características tienen que ver mas con la escuela y la columna de la escuela ha sido eliminada, de igual forma eliminare estas. \n",
        "*Guardian y nursery: guardian es la persona encargada del estudiante y nursery es si fue o no a la guardería, estos dos datos no aportan algo importante para llegar al objetivo.  \n",
        "*schoolsup, famsup y paid: schoosup es apoyo educativo adicional, famsup es apoyo educativo familiar y paid son clases extra pagadas dentro de la asignatura del curso, estas tres columnas brindan información mas relevante para el rendimiento académico o tal ves temas mas relacionados a las materias, pero en este caso no ayudan al objetivo. \n",
        "*Activities, higher e internet: activities son las actividades extracurriculares, higher se refiere a si el estudiante quiere cursar estudios superiores e internet es que si tiene acceso a internet en su casa, estas fueron las ultimas columnas eliminadas porque al igual que las otras la información que contienen no es relevante para llegar al objetivo. \n"
      ]
    },
    {
      "cell_type": "markdown",
      "metadata": {
        "id": "hYOF9vk0s1Ye"
      },
      "source": [
        " A continuación muestro la nueva base de datos "
      ]
    },
    {
      "cell_type": "code",
      "metadata": {
        "colab": {
          "base_uri": "https://localhost:8080/",
          "height": 434
        },
        "id": "WjTazpBvWwW5",
        "outputId": "c9005dc4-c2d1-49c9-8b98-dc66cbe33dea"
      },
      "source": [
        "nb"
      ],
      "execution_count": null,
      "outputs": [
        {
          "output_type": "execute_result",
          "data": {
            "text/html": [
              "<div>\n",
              "<style scoped>\n",
              "    .dataframe tbody tr th:only-of-type {\n",
              "        vertical-align: middle;\n",
              "    }\n",
              "\n",
              "    .dataframe tbody tr th {\n",
              "        vertical-align: top;\n",
              "    }\n",
              "\n",
              "    .dataframe thead th {\n",
              "        text-align: right;\n",
              "    }\n",
              "</style>\n",
              "<table border=\"1\" class=\"dataframe\">\n",
              "  <thead>\n",
              "    <tr style=\"text-align: right;\">\n",
              "      <th></th>\n",
              "      <th>sex</th>\n",
              "      <th>age</th>\n",
              "      <th>famsize</th>\n",
              "      <th>Pstatus</th>\n",
              "      <th>studytime</th>\n",
              "      <th>failures</th>\n",
              "      <th>romantic</th>\n",
              "      <th>famrel</th>\n",
              "      <th>freetime</th>\n",
              "      <th>goout</th>\n",
              "      <th>Dalc</th>\n",
              "      <th>Walc</th>\n",
              "      <th>health</th>\n",
              "      <th>absences</th>\n",
              "      <th>G1</th>\n",
              "      <th>G2</th>\n",
              "      <th>G3</th>\n",
              "    </tr>\n",
              "  </thead>\n",
              "  <tbody>\n",
              "    <tr>\n",
              "      <th>0</th>\n",
              "      <td>F</td>\n",
              "      <td>18</td>\n",
              "      <td>GT3</td>\n",
              "      <td>A</td>\n",
              "      <td>2</td>\n",
              "      <td>0</td>\n",
              "      <td>no</td>\n",
              "      <td>4</td>\n",
              "      <td>3</td>\n",
              "      <td>4</td>\n",
              "      <td>1</td>\n",
              "      <td>1</td>\n",
              "      <td>3</td>\n",
              "      <td>6</td>\n",
              "      <td>5</td>\n",
              "      <td>6</td>\n",
              "      <td>6</td>\n",
              "    </tr>\n",
              "    <tr>\n",
              "      <th>1</th>\n",
              "      <td>F</td>\n",
              "      <td>17</td>\n",
              "      <td>GT3</td>\n",
              "      <td>T</td>\n",
              "      <td>2</td>\n",
              "      <td>0</td>\n",
              "      <td>no</td>\n",
              "      <td>5</td>\n",
              "      <td>3</td>\n",
              "      <td>3</td>\n",
              "      <td>1</td>\n",
              "      <td>1</td>\n",
              "      <td>3</td>\n",
              "      <td>4</td>\n",
              "      <td>5</td>\n",
              "      <td>5</td>\n",
              "      <td>6</td>\n",
              "    </tr>\n",
              "    <tr>\n",
              "      <th>2</th>\n",
              "      <td>F</td>\n",
              "      <td>15</td>\n",
              "      <td>LE3</td>\n",
              "      <td>T</td>\n",
              "      <td>2</td>\n",
              "      <td>3</td>\n",
              "      <td>no</td>\n",
              "      <td>4</td>\n",
              "      <td>3</td>\n",
              "      <td>2</td>\n",
              "      <td>2</td>\n",
              "      <td>3</td>\n",
              "      <td>3</td>\n",
              "      <td>10</td>\n",
              "      <td>7</td>\n",
              "      <td>8</td>\n",
              "      <td>10</td>\n",
              "    </tr>\n",
              "    <tr>\n",
              "      <th>3</th>\n",
              "      <td>F</td>\n",
              "      <td>15</td>\n",
              "      <td>GT3</td>\n",
              "      <td>T</td>\n",
              "      <td>3</td>\n",
              "      <td>0</td>\n",
              "      <td>yes</td>\n",
              "      <td>3</td>\n",
              "      <td>2</td>\n",
              "      <td>2</td>\n",
              "      <td>1</td>\n",
              "      <td>1</td>\n",
              "      <td>5</td>\n",
              "      <td>2</td>\n",
              "      <td>15</td>\n",
              "      <td>14</td>\n",
              "      <td>15</td>\n",
              "    </tr>\n",
              "    <tr>\n",
              "      <th>4</th>\n",
              "      <td>F</td>\n",
              "      <td>16</td>\n",
              "      <td>GT3</td>\n",
              "      <td>T</td>\n",
              "      <td>2</td>\n",
              "      <td>0</td>\n",
              "      <td>no</td>\n",
              "      <td>4</td>\n",
              "      <td>3</td>\n",
              "      <td>2</td>\n",
              "      <td>1</td>\n",
              "      <td>2</td>\n",
              "      <td>5</td>\n",
              "      <td>4</td>\n",
              "      <td>6</td>\n",
              "      <td>10</td>\n",
              "      <td>10</td>\n",
              "    </tr>\n",
              "    <tr>\n",
              "      <th>...</th>\n",
              "      <td>...</td>\n",
              "      <td>...</td>\n",
              "      <td>...</td>\n",
              "      <td>...</td>\n",
              "      <td>...</td>\n",
              "      <td>...</td>\n",
              "      <td>...</td>\n",
              "      <td>...</td>\n",
              "      <td>...</td>\n",
              "      <td>...</td>\n",
              "      <td>...</td>\n",
              "      <td>...</td>\n",
              "      <td>...</td>\n",
              "      <td>...</td>\n",
              "      <td>...</td>\n",
              "      <td>...</td>\n",
              "      <td>...</td>\n",
              "    </tr>\n",
              "    <tr>\n",
              "      <th>390</th>\n",
              "      <td>M</td>\n",
              "      <td>20</td>\n",
              "      <td>LE3</td>\n",
              "      <td>A</td>\n",
              "      <td>2</td>\n",
              "      <td>2</td>\n",
              "      <td>no</td>\n",
              "      <td>5</td>\n",
              "      <td>5</td>\n",
              "      <td>4</td>\n",
              "      <td>4</td>\n",
              "      <td>5</td>\n",
              "      <td>4</td>\n",
              "      <td>11</td>\n",
              "      <td>9</td>\n",
              "      <td>9</td>\n",
              "      <td>9</td>\n",
              "    </tr>\n",
              "    <tr>\n",
              "      <th>391</th>\n",
              "      <td>M</td>\n",
              "      <td>17</td>\n",
              "      <td>LE3</td>\n",
              "      <td>T</td>\n",
              "      <td>1</td>\n",
              "      <td>0</td>\n",
              "      <td>no</td>\n",
              "      <td>2</td>\n",
              "      <td>4</td>\n",
              "      <td>5</td>\n",
              "      <td>3</td>\n",
              "      <td>4</td>\n",
              "      <td>2</td>\n",
              "      <td>3</td>\n",
              "      <td>14</td>\n",
              "      <td>16</td>\n",
              "      <td>16</td>\n",
              "    </tr>\n",
              "    <tr>\n",
              "      <th>392</th>\n",
              "      <td>M</td>\n",
              "      <td>21</td>\n",
              "      <td>GT3</td>\n",
              "      <td>T</td>\n",
              "      <td>1</td>\n",
              "      <td>3</td>\n",
              "      <td>no</td>\n",
              "      <td>5</td>\n",
              "      <td>5</td>\n",
              "      <td>3</td>\n",
              "      <td>3</td>\n",
              "      <td>3</td>\n",
              "      <td>3</td>\n",
              "      <td>3</td>\n",
              "      <td>10</td>\n",
              "      <td>8</td>\n",
              "      <td>7</td>\n",
              "    </tr>\n",
              "    <tr>\n",
              "      <th>393</th>\n",
              "      <td>M</td>\n",
              "      <td>18</td>\n",
              "      <td>LE3</td>\n",
              "      <td>T</td>\n",
              "      <td>1</td>\n",
              "      <td>0</td>\n",
              "      <td>no</td>\n",
              "      <td>4</td>\n",
              "      <td>4</td>\n",
              "      <td>1</td>\n",
              "      <td>3</td>\n",
              "      <td>4</td>\n",
              "      <td>5</td>\n",
              "      <td>0</td>\n",
              "      <td>11</td>\n",
              "      <td>12</td>\n",
              "      <td>10</td>\n",
              "    </tr>\n",
              "    <tr>\n",
              "      <th>394</th>\n",
              "      <td>M</td>\n",
              "      <td>19</td>\n",
              "      <td>LE3</td>\n",
              "      <td>T</td>\n",
              "      <td>1</td>\n",
              "      <td>0</td>\n",
              "      <td>no</td>\n",
              "      <td>3</td>\n",
              "      <td>2</td>\n",
              "      <td>3</td>\n",
              "      <td>3</td>\n",
              "      <td>3</td>\n",
              "      <td>5</td>\n",
              "      <td>5</td>\n",
              "      <td>8</td>\n",
              "      <td>9</td>\n",
              "      <td>9</td>\n",
              "    </tr>\n",
              "  </tbody>\n",
              "</table>\n",
              "<p>395 rows × 17 columns</p>\n",
              "</div>"
            ],
            "text/plain": [
              "    sex  age famsize Pstatus  studytime  ...  health absences  G1  G2  G3\n",
              "0     F   18     GT3       A          2  ...       3        6   5   6   6\n",
              "1     F   17     GT3       T          2  ...       3        4   5   5   6\n",
              "2     F   15     LE3       T          2  ...       3       10   7   8  10\n",
              "3     F   15     GT3       T          3  ...       5        2  15  14  15\n",
              "4     F   16     GT3       T          2  ...       5        4   6  10  10\n",
              "..   ..  ...     ...     ...        ...  ...     ...      ...  ..  ..  ..\n",
              "390   M   20     LE3       A          2  ...       4       11   9   9   9\n",
              "391   M   17     LE3       T          1  ...       2        3  14  16  16\n",
              "392   M   21     GT3       T          1  ...       3        3  10   8   7\n",
              "393   M   18     LE3       T          1  ...       5        0  11  12  10\n",
              "394   M   19     LE3       T          1  ...       5        5   8   9   9\n",
              "\n",
              "[395 rows x 17 columns]"
            ]
          },
          "metadata": {},
          "execution_count": 19
        }
      ]
    },
    {
      "cell_type": "markdown",
      "metadata": {
        "id": "LDP__gLMXI5v"
      },
      "source": [
        "***Manipulación de datos nulos***"
      ]
    },
    {
      "cell_type": "code",
      "metadata": {
        "colab": {
          "base_uri": "https://localhost:8080/",
          "height": 434
        },
        "id": "b2BidfqmXrvz",
        "outputId": "3ae52554-2a63-4482-ba85-13a3b392f18c"
      },
      "source": [
        "#esta instrucción sirve para ver los datos nulos \n",
        "nb.isnull()"
      ],
      "execution_count": null,
      "outputs": [
        {
          "output_type": "execute_result",
          "data": {
            "text/html": [
              "<div>\n",
              "<style scoped>\n",
              "    .dataframe tbody tr th:only-of-type {\n",
              "        vertical-align: middle;\n",
              "    }\n",
              "\n",
              "    .dataframe tbody tr th {\n",
              "        vertical-align: top;\n",
              "    }\n",
              "\n",
              "    .dataframe thead th {\n",
              "        text-align: right;\n",
              "    }\n",
              "</style>\n",
              "<table border=\"1\" class=\"dataframe\">\n",
              "  <thead>\n",
              "    <tr style=\"text-align: right;\">\n",
              "      <th></th>\n",
              "      <th>sex</th>\n",
              "      <th>age</th>\n",
              "      <th>famsize</th>\n",
              "      <th>Pstatus</th>\n",
              "      <th>studytime</th>\n",
              "      <th>failures</th>\n",
              "      <th>romantic</th>\n",
              "      <th>famrel</th>\n",
              "      <th>freetime</th>\n",
              "      <th>goout</th>\n",
              "      <th>Dalc</th>\n",
              "      <th>Walc</th>\n",
              "      <th>health</th>\n",
              "      <th>absences</th>\n",
              "      <th>G1</th>\n",
              "      <th>G2</th>\n",
              "      <th>G3</th>\n",
              "    </tr>\n",
              "  </thead>\n",
              "  <tbody>\n",
              "    <tr>\n",
              "      <th>0</th>\n",
              "      <td>False</td>\n",
              "      <td>False</td>\n",
              "      <td>False</td>\n",
              "      <td>False</td>\n",
              "      <td>False</td>\n",
              "      <td>False</td>\n",
              "      <td>False</td>\n",
              "      <td>False</td>\n",
              "      <td>False</td>\n",
              "      <td>False</td>\n",
              "      <td>False</td>\n",
              "      <td>False</td>\n",
              "      <td>False</td>\n",
              "      <td>False</td>\n",
              "      <td>False</td>\n",
              "      <td>False</td>\n",
              "      <td>False</td>\n",
              "    </tr>\n",
              "    <tr>\n",
              "      <th>1</th>\n",
              "      <td>False</td>\n",
              "      <td>False</td>\n",
              "      <td>False</td>\n",
              "      <td>False</td>\n",
              "      <td>False</td>\n",
              "      <td>False</td>\n",
              "      <td>False</td>\n",
              "      <td>False</td>\n",
              "      <td>False</td>\n",
              "      <td>False</td>\n",
              "      <td>False</td>\n",
              "      <td>False</td>\n",
              "      <td>False</td>\n",
              "      <td>False</td>\n",
              "      <td>False</td>\n",
              "      <td>False</td>\n",
              "      <td>False</td>\n",
              "    </tr>\n",
              "    <tr>\n",
              "      <th>2</th>\n",
              "      <td>False</td>\n",
              "      <td>False</td>\n",
              "      <td>False</td>\n",
              "      <td>False</td>\n",
              "      <td>False</td>\n",
              "      <td>False</td>\n",
              "      <td>False</td>\n",
              "      <td>False</td>\n",
              "      <td>False</td>\n",
              "      <td>False</td>\n",
              "      <td>False</td>\n",
              "      <td>False</td>\n",
              "      <td>False</td>\n",
              "      <td>False</td>\n",
              "      <td>False</td>\n",
              "      <td>False</td>\n",
              "      <td>False</td>\n",
              "    </tr>\n",
              "    <tr>\n",
              "      <th>3</th>\n",
              "      <td>False</td>\n",
              "      <td>False</td>\n",
              "      <td>False</td>\n",
              "      <td>False</td>\n",
              "      <td>False</td>\n",
              "      <td>False</td>\n",
              "      <td>False</td>\n",
              "      <td>False</td>\n",
              "      <td>False</td>\n",
              "      <td>False</td>\n",
              "      <td>False</td>\n",
              "      <td>False</td>\n",
              "      <td>False</td>\n",
              "      <td>False</td>\n",
              "      <td>False</td>\n",
              "      <td>False</td>\n",
              "      <td>False</td>\n",
              "    </tr>\n",
              "    <tr>\n",
              "      <th>4</th>\n",
              "      <td>False</td>\n",
              "      <td>False</td>\n",
              "      <td>False</td>\n",
              "      <td>False</td>\n",
              "      <td>False</td>\n",
              "      <td>False</td>\n",
              "      <td>False</td>\n",
              "      <td>False</td>\n",
              "      <td>False</td>\n",
              "      <td>False</td>\n",
              "      <td>False</td>\n",
              "      <td>False</td>\n",
              "      <td>False</td>\n",
              "      <td>False</td>\n",
              "      <td>False</td>\n",
              "      <td>False</td>\n",
              "      <td>False</td>\n",
              "    </tr>\n",
              "    <tr>\n",
              "      <th>...</th>\n",
              "      <td>...</td>\n",
              "      <td>...</td>\n",
              "      <td>...</td>\n",
              "      <td>...</td>\n",
              "      <td>...</td>\n",
              "      <td>...</td>\n",
              "      <td>...</td>\n",
              "      <td>...</td>\n",
              "      <td>...</td>\n",
              "      <td>...</td>\n",
              "      <td>...</td>\n",
              "      <td>...</td>\n",
              "      <td>...</td>\n",
              "      <td>...</td>\n",
              "      <td>...</td>\n",
              "      <td>...</td>\n",
              "      <td>...</td>\n",
              "    </tr>\n",
              "    <tr>\n",
              "      <th>390</th>\n",
              "      <td>False</td>\n",
              "      <td>False</td>\n",
              "      <td>False</td>\n",
              "      <td>False</td>\n",
              "      <td>False</td>\n",
              "      <td>False</td>\n",
              "      <td>False</td>\n",
              "      <td>False</td>\n",
              "      <td>False</td>\n",
              "      <td>False</td>\n",
              "      <td>False</td>\n",
              "      <td>False</td>\n",
              "      <td>False</td>\n",
              "      <td>False</td>\n",
              "      <td>False</td>\n",
              "      <td>False</td>\n",
              "      <td>False</td>\n",
              "    </tr>\n",
              "    <tr>\n",
              "      <th>391</th>\n",
              "      <td>False</td>\n",
              "      <td>False</td>\n",
              "      <td>False</td>\n",
              "      <td>False</td>\n",
              "      <td>False</td>\n",
              "      <td>False</td>\n",
              "      <td>False</td>\n",
              "      <td>False</td>\n",
              "      <td>False</td>\n",
              "      <td>False</td>\n",
              "      <td>False</td>\n",
              "      <td>False</td>\n",
              "      <td>False</td>\n",
              "      <td>False</td>\n",
              "      <td>False</td>\n",
              "      <td>False</td>\n",
              "      <td>False</td>\n",
              "    </tr>\n",
              "    <tr>\n",
              "      <th>392</th>\n",
              "      <td>False</td>\n",
              "      <td>False</td>\n",
              "      <td>False</td>\n",
              "      <td>False</td>\n",
              "      <td>False</td>\n",
              "      <td>False</td>\n",
              "      <td>False</td>\n",
              "      <td>False</td>\n",
              "      <td>False</td>\n",
              "      <td>False</td>\n",
              "      <td>False</td>\n",
              "      <td>False</td>\n",
              "      <td>False</td>\n",
              "      <td>False</td>\n",
              "      <td>False</td>\n",
              "      <td>False</td>\n",
              "      <td>False</td>\n",
              "    </tr>\n",
              "    <tr>\n",
              "      <th>393</th>\n",
              "      <td>False</td>\n",
              "      <td>False</td>\n",
              "      <td>False</td>\n",
              "      <td>False</td>\n",
              "      <td>False</td>\n",
              "      <td>False</td>\n",
              "      <td>False</td>\n",
              "      <td>False</td>\n",
              "      <td>False</td>\n",
              "      <td>False</td>\n",
              "      <td>False</td>\n",
              "      <td>False</td>\n",
              "      <td>False</td>\n",
              "      <td>False</td>\n",
              "      <td>False</td>\n",
              "      <td>False</td>\n",
              "      <td>False</td>\n",
              "    </tr>\n",
              "    <tr>\n",
              "      <th>394</th>\n",
              "      <td>False</td>\n",
              "      <td>False</td>\n",
              "      <td>False</td>\n",
              "      <td>False</td>\n",
              "      <td>False</td>\n",
              "      <td>False</td>\n",
              "      <td>False</td>\n",
              "      <td>False</td>\n",
              "      <td>False</td>\n",
              "      <td>False</td>\n",
              "      <td>False</td>\n",
              "      <td>False</td>\n",
              "      <td>False</td>\n",
              "      <td>False</td>\n",
              "      <td>False</td>\n",
              "      <td>False</td>\n",
              "      <td>False</td>\n",
              "    </tr>\n",
              "  </tbody>\n",
              "</table>\n",
              "<p>395 rows × 17 columns</p>\n",
              "</div>"
            ],
            "text/plain": [
              "       sex    age  famsize  Pstatus  ...  absences     G1     G2     G3\n",
              "0    False  False    False    False  ...     False  False  False  False\n",
              "1    False  False    False    False  ...     False  False  False  False\n",
              "2    False  False    False    False  ...     False  False  False  False\n",
              "3    False  False    False    False  ...     False  False  False  False\n",
              "4    False  False    False    False  ...     False  False  False  False\n",
              "..     ...    ...      ...      ...  ...       ...    ...    ...    ...\n",
              "390  False  False    False    False  ...     False  False  False  False\n",
              "391  False  False    False    False  ...     False  False  False  False\n",
              "392  False  False    False    False  ...     False  False  False  False\n",
              "393  False  False    False    False  ...     False  False  False  False\n",
              "394  False  False    False    False  ...     False  False  False  False\n",
              "\n",
              "[395 rows x 17 columns]"
            ]
          },
          "metadata": {},
          "execution_count": 20
        }
      ]
    },
    {
      "cell_type": "code",
      "metadata": {
        "colab": {
          "base_uri": "https://localhost:8080/"
        },
        "id": "b_cfDCKAX2-S",
        "outputId": "2be60178-2952-4f32-d642-18804f572545"
      },
      "source": [
        "# Saber si exiten datos nulos en las columnas (True)\n",
        "nb.isnull().any()"
      ],
      "execution_count": null,
      "outputs": [
        {
          "output_type": "execute_result",
          "data": {
            "text/plain": [
              "sex          False\n",
              "age          False\n",
              "famsize      False\n",
              "Pstatus      False\n",
              "studytime    False\n",
              "failures     False\n",
              "romantic     False\n",
              "famrel       False\n",
              "freetime     False\n",
              "goout        False\n",
              "Dalc         False\n",
              "Walc         False\n",
              "health       False\n",
              "absences     False\n",
              "G1           False\n",
              "G2           False\n",
              "G3           False\n",
              "dtype: bool"
            ]
          },
          "metadata": {},
          "execution_count": 21
        }
      ]
    },
    {
      "cell_type": "code",
      "metadata": {
        "colab": {
          "base_uri": "https://localhost:8080/"
        },
        "id": "JIJ9WWcKX7M-",
        "outputId": "bcb3e551-abb1-4c3a-f652-9532f3879c96"
      },
      "source": [
        "#Se sumaran los datos nulos que existen\n",
        "nb.isnull().sum()"
      ],
      "execution_count": null,
      "outputs": [
        {
          "output_type": "execute_result",
          "data": {
            "text/plain": [
              "sex          0\n",
              "age          0\n",
              "famsize      0\n",
              "Pstatus      0\n",
              "studytime    0\n",
              "failures     0\n",
              "romantic     0\n",
              "famrel       0\n",
              "freetime     0\n",
              "goout        0\n",
              "Dalc         0\n",
              "Walc         0\n",
              "health       0\n",
              "absences     0\n",
              "G1           0\n",
              "G2           0\n",
              "G3           0\n",
              "dtype: int64"
            ]
          },
          "metadata": {},
          "execution_count": 22
        }
      ]
    },
    {
      "cell_type": "markdown",
      "metadata": {
        "id": "rxKFxA4LYIO8"
      },
      "source": [
        "Como se observa, no contamos con la presencia a datos nulos en la nueva base de datos"
      ]
    },
    {
      "cell_type": "markdown",
      "metadata": {
        "id": "TXujsXSzt2zR"
      },
      "source": [
        "***Renombrar las columnas***"
      ]
    },
    {
      "cell_type": "code",
      "metadata": {
        "id": "gwXeaQVeYJJp"
      },
      "source": [
        "nb.rename(columns = {\"sex\": \"Sexo\",\"age\": \"Edad\",\"famsize\": \"Fam\",\"Pstatus\": \"Estatus_padres\",\n",
        "                     \"failures\": \"Reprobadas\",\"higher\": \"Universidad\",\"higher\": \"Universidad\",\n",
        "                     \"famrel\": \"Famrel\",\"studytime\": \"Tiempo_estudio\",\"activities\": \"Extracurriculares\",\n",
        "                     \"freetime\": \"Tiempo_libre\",\"goout\": \"Salir\",\"Walc\": \"Falc\",\"absences\": \"Faltas\",\"romantic\":\"Relación\"},inplace=True)\n",
        "\n"
      ],
      "execution_count": null,
      "outputs": []
    },
    {
      "cell_type": "code",
      "metadata": {
        "colab": {
          "base_uri": "https://localhost:8080/",
          "height": 434
        },
        "id": "xvJognehaR5V",
        "outputId": "ca9cbe35-c2c3-43d4-aabe-c400f7cf7393"
      },
      "source": [
        "nb"
      ],
      "execution_count": null,
      "outputs": [
        {
          "output_type": "execute_result",
          "data": {
            "text/html": [
              "<div>\n",
              "<style scoped>\n",
              "    .dataframe tbody tr th:only-of-type {\n",
              "        vertical-align: middle;\n",
              "    }\n",
              "\n",
              "    .dataframe tbody tr th {\n",
              "        vertical-align: top;\n",
              "    }\n",
              "\n",
              "    .dataframe thead th {\n",
              "        text-align: right;\n",
              "    }\n",
              "</style>\n",
              "<table border=\"1\" class=\"dataframe\">\n",
              "  <thead>\n",
              "    <tr style=\"text-align: right;\">\n",
              "      <th></th>\n",
              "      <th>Sexo</th>\n",
              "      <th>Edad</th>\n",
              "      <th>Fam</th>\n",
              "      <th>Estatus_padres</th>\n",
              "      <th>Tiempo_estudio</th>\n",
              "      <th>Reprobadas</th>\n",
              "      <th>Relación</th>\n",
              "      <th>Famrel</th>\n",
              "      <th>Tiempo_libre</th>\n",
              "      <th>Salir</th>\n",
              "      <th>Dalc</th>\n",
              "      <th>Falc</th>\n",
              "      <th>health</th>\n",
              "      <th>Faltas</th>\n",
              "      <th>G1</th>\n",
              "      <th>G2</th>\n",
              "      <th>G3</th>\n",
              "    </tr>\n",
              "  </thead>\n",
              "  <tbody>\n",
              "    <tr>\n",
              "      <th>0</th>\n",
              "      <td>F</td>\n",
              "      <td>18</td>\n",
              "      <td>GT3</td>\n",
              "      <td>A</td>\n",
              "      <td>2</td>\n",
              "      <td>0</td>\n",
              "      <td>no</td>\n",
              "      <td>4</td>\n",
              "      <td>3</td>\n",
              "      <td>4</td>\n",
              "      <td>1</td>\n",
              "      <td>1</td>\n",
              "      <td>3</td>\n",
              "      <td>6</td>\n",
              "      <td>5</td>\n",
              "      <td>6</td>\n",
              "      <td>6</td>\n",
              "    </tr>\n",
              "    <tr>\n",
              "      <th>1</th>\n",
              "      <td>F</td>\n",
              "      <td>17</td>\n",
              "      <td>GT3</td>\n",
              "      <td>T</td>\n",
              "      <td>2</td>\n",
              "      <td>0</td>\n",
              "      <td>no</td>\n",
              "      <td>5</td>\n",
              "      <td>3</td>\n",
              "      <td>3</td>\n",
              "      <td>1</td>\n",
              "      <td>1</td>\n",
              "      <td>3</td>\n",
              "      <td>4</td>\n",
              "      <td>5</td>\n",
              "      <td>5</td>\n",
              "      <td>6</td>\n",
              "    </tr>\n",
              "    <tr>\n",
              "      <th>2</th>\n",
              "      <td>F</td>\n",
              "      <td>15</td>\n",
              "      <td>LE3</td>\n",
              "      <td>T</td>\n",
              "      <td>2</td>\n",
              "      <td>3</td>\n",
              "      <td>no</td>\n",
              "      <td>4</td>\n",
              "      <td>3</td>\n",
              "      <td>2</td>\n",
              "      <td>2</td>\n",
              "      <td>3</td>\n",
              "      <td>3</td>\n",
              "      <td>10</td>\n",
              "      <td>7</td>\n",
              "      <td>8</td>\n",
              "      <td>10</td>\n",
              "    </tr>\n",
              "    <tr>\n",
              "      <th>3</th>\n",
              "      <td>F</td>\n",
              "      <td>15</td>\n",
              "      <td>GT3</td>\n",
              "      <td>T</td>\n",
              "      <td>3</td>\n",
              "      <td>0</td>\n",
              "      <td>yes</td>\n",
              "      <td>3</td>\n",
              "      <td>2</td>\n",
              "      <td>2</td>\n",
              "      <td>1</td>\n",
              "      <td>1</td>\n",
              "      <td>5</td>\n",
              "      <td>2</td>\n",
              "      <td>15</td>\n",
              "      <td>14</td>\n",
              "      <td>15</td>\n",
              "    </tr>\n",
              "    <tr>\n",
              "      <th>4</th>\n",
              "      <td>F</td>\n",
              "      <td>16</td>\n",
              "      <td>GT3</td>\n",
              "      <td>T</td>\n",
              "      <td>2</td>\n",
              "      <td>0</td>\n",
              "      <td>no</td>\n",
              "      <td>4</td>\n",
              "      <td>3</td>\n",
              "      <td>2</td>\n",
              "      <td>1</td>\n",
              "      <td>2</td>\n",
              "      <td>5</td>\n",
              "      <td>4</td>\n",
              "      <td>6</td>\n",
              "      <td>10</td>\n",
              "      <td>10</td>\n",
              "    </tr>\n",
              "    <tr>\n",
              "      <th>...</th>\n",
              "      <td>...</td>\n",
              "      <td>...</td>\n",
              "      <td>...</td>\n",
              "      <td>...</td>\n",
              "      <td>...</td>\n",
              "      <td>...</td>\n",
              "      <td>...</td>\n",
              "      <td>...</td>\n",
              "      <td>...</td>\n",
              "      <td>...</td>\n",
              "      <td>...</td>\n",
              "      <td>...</td>\n",
              "      <td>...</td>\n",
              "      <td>...</td>\n",
              "      <td>...</td>\n",
              "      <td>...</td>\n",
              "      <td>...</td>\n",
              "    </tr>\n",
              "    <tr>\n",
              "      <th>390</th>\n",
              "      <td>M</td>\n",
              "      <td>20</td>\n",
              "      <td>LE3</td>\n",
              "      <td>A</td>\n",
              "      <td>2</td>\n",
              "      <td>2</td>\n",
              "      <td>no</td>\n",
              "      <td>5</td>\n",
              "      <td>5</td>\n",
              "      <td>4</td>\n",
              "      <td>4</td>\n",
              "      <td>5</td>\n",
              "      <td>4</td>\n",
              "      <td>11</td>\n",
              "      <td>9</td>\n",
              "      <td>9</td>\n",
              "      <td>9</td>\n",
              "    </tr>\n",
              "    <tr>\n",
              "      <th>391</th>\n",
              "      <td>M</td>\n",
              "      <td>17</td>\n",
              "      <td>LE3</td>\n",
              "      <td>T</td>\n",
              "      <td>1</td>\n",
              "      <td>0</td>\n",
              "      <td>no</td>\n",
              "      <td>2</td>\n",
              "      <td>4</td>\n",
              "      <td>5</td>\n",
              "      <td>3</td>\n",
              "      <td>4</td>\n",
              "      <td>2</td>\n",
              "      <td>3</td>\n",
              "      <td>14</td>\n",
              "      <td>16</td>\n",
              "      <td>16</td>\n",
              "    </tr>\n",
              "    <tr>\n",
              "      <th>392</th>\n",
              "      <td>M</td>\n",
              "      <td>21</td>\n",
              "      <td>GT3</td>\n",
              "      <td>T</td>\n",
              "      <td>1</td>\n",
              "      <td>3</td>\n",
              "      <td>no</td>\n",
              "      <td>5</td>\n",
              "      <td>5</td>\n",
              "      <td>3</td>\n",
              "      <td>3</td>\n",
              "      <td>3</td>\n",
              "      <td>3</td>\n",
              "      <td>3</td>\n",
              "      <td>10</td>\n",
              "      <td>8</td>\n",
              "      <td>7</td>\n",
              "    </tr>\n",
              "    <tr>\n",
              "      <th>393</th>\n",
              "      <td>M</td>\n",
              "      <td>18</td>\n",
              "      <td>LE3</td>\n",
              "      <td>T</td>\n",
              "      <td>1</td>\n",
              "      <td>0</td>\n",
              "      <td>no</td>\n",
              "      <td>4</td>\n",
              "      <td>4</td>\n",
              "      <td>1</td>\n",
              "      <td>3</td>\n",
              "      <td>4</td>\n",
              "      <td>5</td>\n",
              "      <td>0</td>\n",
              "      <td>11</td>\n",
              "      <td>12</td>\n",
              "      <td>10</td>\n",
              "    </tr>\n",
              "    <tr>\n",
              "      <th>394</th>\n",
              "      <td>M</td>\n",
              "      <td>19</td>\n",
              "      <td>LE3</td>\n",
              "      <td>T</td>\n",
              "      <td>1</td>\n",
              "      <td>0</td>\n",
              "      <td>no</td>\n",
              "      <td>3</td>\n",
              "      <td>2</td>\n",
              "      <td>3</td>\n",
              "      <td>3</td>\n",
              "      <td>3</td>\n",
              "      <td>5</td>\n",
              "      <td>5</td>\n",
              "      <td>8</td>\n",
              "      <td>9</td>\n",
              "      <td>9</td>\n",
              "    </tr>\n",
              "  </tbody>\n",
              "</table>\n",
              "<p>395 rows × 17 columns</p>\n",
              "</div>"
            ],
            "text/plain": [
              "    Sexo  Edad  Fam Estatus_padres  Tiempo_estudio  ...  health Faltas  G1  G2  G3\n",
              "0      F    18  GT3              A               2  ...       3      6   5   6   6\n",
              "1      F    17  GT3              T               2  ...       3      4   5   5   6\n",
              "2      F    15  LE3              T               2  ...       3     10   7   8  10\n",
              "3      F    15  GT3              T               3  ...       5      2  15  14  15\n",
              "4      F    16  GT3              T               2  ...       5      4   6  10  10\n",
              "..   ...   ...  ...            ...             ...  ...     ...    ...  ..  ..  ..\n",
              "390    M    20  LE3              A               2  ...       4     11   9   9   9\n",
              "391    M    17  LE3              T               1  ...       2      3  14  16  16\n",
              "392    M    21  GT3              T               1  ...       3      3  10   8   7\n",
              "393    M    18  LE3              T               1  ...       5      0  11  12  10\n",
              "394    M    19  LE3              T               1  ...       5      5   8   9   9\n",
              "\n",
              "[395 rows x 17 columns]"
            ]
          },
          "metadata": {},
          "execution_count": 24
        }
      ]
    },
    {
      "cell_type": "markdown",
      "metadata": {
        "id": "qUyZPu0tt948"
      },
      "source": [
        "***Explicación***\n",
        "\n",
        "\n",
        "Se decidió renombrar las columnas para mayor facilidad y entendimiento a la hora de manipularlas, ya que sus nombres anteriormente estaban en inglés, lo que lo hacia un poco confuso. \n"
      ]
    },
    {
      "cell_type": "markdown",
      "metadata": {
        "id": "iU-bswf9LFOT"
      },
      "source": [
        "***Nuevo Archivo***"
      ]
    },
    {
      "cell_type": "code",
      "metadata": {
        "id": "ttv4G5JwK-eg"
      },
      "source": [
        "nb.to_csv('BaseFinal.csv', index=False)\n",
        "nbf = pd.read_csv('BaseFinal.csv')\n"
      ],
      "execution_count": null,
      "outputs": []
    },
    {
      "cell_type": "code",
      "metadata": {
        "colab": {
          "base_uri": "https://localhost:8080/",
          "height": 434
        },
        "id": "Oz8GKYvmLeYN",
        "outputId": "fd4ffa6b-61a2-4ae1-d955-7ed8e054ccd5"
      },
      "source": [
        "nbf"
      ],
      "execution_count": null,
      "outputs": [
        {
          "output_type": "execute_result",
          "data": {
            "text/html": [
              "<div>\n",
              "<style scoped>\n",
              "    .dataframe tbody tr th:only-of-type {\n",
              "        vertical-align: middle;\n",
              "    }\n",
              "\n",
              "    .dataframe tbody tr th {\n",
              "        vertical-align: top;\n",
              "    }\n",
              "\n",
              "    .dataframe thead th {\n",
              "        text-align: right;\n",
              "    }\n",
              "</style>\n",
              "<table border=\"1\" class=\"dataframe\">\n",
              "  <thead>\n",
              "    <tr style=\"text-align: right;\">\n",
              "      <th></th>\n",
              "      <th>Sexo</th>\n",
              "      <th>Edad</th>\n",
              "      <th>Fam</th>\n",
              "      <th>Estatus_padres</th>\n",
              "      <th>Tiempo_estudio</th>\n",
              "      <th>Reprobadas</th>\n",
              "      <th>Relación</th>\n",
              "      <th>Famrel</th>\n",
              "      <th>Tiempo_libre</th>\n",
              "      <th>Salir</th>\n",
              "      <th>Dalc</th>\n",
              "      <th>Falc</th>\n",
              "      <th>health</th>\n",
              "      <th>Faltas</th>\n",
              "      <th>G1</th>\n",
              "      <th>G2</th>\n",
              "      <th>G3</th>\n",
              "    </tr>\n",
              "  </thead>\n",
              "  <tbody>\n",
              "    <tr>\n",
              "      <th>0</th>\n",
              "      <td>F</td>\n",
              "      <td>18</td>\n",
              "      <td>GT3</td>\n",
              "      <td>A</td>\n",
              "      <td>2</td>\n",
              "      <td>0</td>\n",
              "      <td>no</td>\n",
              "      <td>4</td>\n",
              "      <td>3</td>\n",
              "      <td>4</td>\n",
              "      <td>1</td>\n",
              "      <td>1</td>\n",
              "      <td>3</td>\n",
              "      <td>6</td>\n",
              "      <td>5</td>\n",
              "      <td>6</td>\n",
              "      <td>6</td>\n",
              "    </tr>\n",
              "    <tr>\n",
              "      <th>1</th>\n",
              "      <td>F</td>\n",
              "      <td>17</td>\n",
              "      <td>GT3</td>\n",
              "      <td>T</td>\n",
              "      <td>2</td>\n",
              "      <td>0</td>\n",
              "      <td>no</td>\n",
              "      <td>5</td>\n",
              "      <td>3</td>\n",
              "      <td>3</td>\n",
              "      <td>1</td>\n",
              "      <td>1</td>\n",
              "      <td>3</td>\n",
              "      <td>4</td>\n",
              "      <td>5</td>\n",
              "      <td>5</td>\n",
              "      <td>6</td>\n",
              "    </tr>\n",
              "    <tr>\n",
              "      <th>2</th>\n",
              "      <td>F</td>\n",
              "      <td>15</td>\n",
              "      <td>LE3</td>\n",
              "      <td>T</td>\n",
              "      <td>2</td>\n",
              "      <td>3</td>\n",
              "      <td>no</td>\n",
              "      <td>4</td>\n",
              "      <td>3</td>\n",
              "      <td>2</td>\n",
              "      <td>2</td>\n",
              "      <td>3</td>\n",
              "      <td>3</td>\n",
              "      <td>10</td>\n",
              "      <td>7</td>\n",
              "      <td>8</td>\n",
              "      <td>10</td>\n",
              "    </tr>\n",
              "    <tr>\n",
              "      <th>3</th>\n",
              "      <td>F</td>\n",
              "      <td>15</td>\n",
              "      <td>GT3</td>\n",
              "      <td>T</td>\n",
              "      <td>3</td>\n",
              "      <td>0</td>\n",
              "      <td>yes</td>\n",
              "      <td>3</td>\n",
              "      <td>2</td>\n",
              "      <td>2</td>\n",
              "      <td>1</td>\n",
              "      <td>1</td>\n",
              "      <td>5</td>\n",
              "      <td>2</td>\n",
              "      <td>15</td>\n",
              "      <td>14</td>\n",
              "      <td>15</td>\n",
              "    </tr>\n",
              "    <tr>\n",
              "      <th>4</th>\n",
              "      <td>F</td>\n",
              "      <td>16</td>\n",
              "      <td>GT3</td>\n",
              "      <td>T</td>\n",
              "      <td>2</td>\n",
              "      <td>0</td>\n",
              "      <td>no</td>\n",
              "      <td>4</td>\n",
              "      <td>3</td>\n",
              "      <td>2</td>\n",
              "      <td>1</td>\n",
              "      <td>2</td>\n",
              "      <td>5</td>\n",
              "      <td>4</td>\n",
              "      <td>6</td>\n",
              "      <td>10</td>\n",
              "      <td>10</td>\n",
              "    </tr>\n",
              "    <tr>\n",
              "      <th>...</th>\n",
              "      <td>...</td>\n",
              "      <td>...</td>\n",
              "      <td>...</td>\n",
              "      <td>...</td>\n",
              "      <td>...</td>\n",
              "      <td>...</td>\n",
              "      <td>...</td>\n",
              "      <td>...</td>\n",
              "      <td>...</td>\n",
              "      <td>...</td>\n",
              "      <td>...</td>\n",
              "      <td>...</td>\n",
              "      <td>...</td>\n",
              "      <td>...</td>\n",
              "      <td>...</td>\n",
              "      <td>...</td>\n",
              "      <td>...</td>\n",
              "    </tr>\n",
              "    <tr>\n",
              "      <th>390</th>\n",
              "      <td>M</td>\n",
              "      <td>20</td>\n",
              "      <td>LE3</td>\n",
              "      <td>A</td>\n",
              "      <td>2</td>\n",
              "      <td>2</td>\n",
              "      <td>no</td>\n",
              "      <td>5</td>\n",
              "      <td>5</td>\n",
              "      <td>4</td>\n",
              "      <td>4</td>\n",
              "      <td>5</td>\n",
              "      <td>4</td>\n",
              "      <td>11</td>\n",
              "      <td>9</td>\n",
              "      <td>9</td>\n",
              "      <td>9</td>\n",
              "    </tr>\n",
              "    <tr>\n",
              "      <th>391</th>\n",
              "      <td>M</td>\n",
              "      <td>17</td>\n",
              "      <td>LE3</td>\n",
              "      <td>T</td>\n",
              "      <td>1</td>\n",
              "      <td>0</td>\n",
              "      <td>no</td>\n",
              "      <td>2</td>\n",
              "      <td>4</td>\n",
              "      <td>5</td>\n",
              "      <td>3</td>\n",
              "      <td>4</td>\n",
              "      <td>2</td>\n",
              "      <td>3</td>\n",
              "      <td>14</td>\n",
              "      <td>16</td>\n",
              "      <td>16</td>\n",
              "    </tr>\n",
              "    <tr>\n",
              "      <th>392</th>\n",
              "      <td>M</td>\n",
              "      <td>21</td>\n",
              "      <td>GT3</td>\n",
              "      <td>T</td>\n",
              "      <td>1</td>\n",
              "      <td>3</td>\n",
              "      <td>no</td>\n",
              "      <td>5</td>\n",
              "      <td>5</td>\n",
              "      <td>3</td>\n",
              "      <td>3</td>\n",
              "      <td>3</td>\n",
              "      <td>3</td>\n",
              "      <td>3</td>\n",
              "      <td>10</td>\n",
              "      <td>8</td>\n",
              "      <td>7</td>\n",
              "    </tr>\n",
              "    <tr>\n",
              "      <th>393</th>\n",
              "      <td>M</td>\n",
              "      <td>18</td>\n",
              "      <td>LE3</td>\n",
              "      <td>T</td>\n",
              "      <td>1</td>\n",
              "      <td>0</td>\n",
              "      <td>no</td>\n",
              "      <td>4</td>\n",
              "      <td>4</td>\n",
              "      <td>1</td>\n",
              "      <td>3</td>\n",
              "      <td>4</td>\n",
              "      <td>5</td>\n",
              "      <td>0</td>\n",
              "      <td>11</td>\n",
              "      <td>12</td>\n",
              "      <td>10</td>\n",
              "    </tr>\n",
              "    <tr>\n",
              "      <th>394</th>\n",
              "      <td>M</td>\n",
              "      <td>19</td>\n",
              "      <td>LE3</td>\n",
              "      <td>T</td>\n",
              "      <td>1</td>\n",
              "      <td>0</td>\n",
              "      <td>no</td>\n",
              "      <td>3</td>\n",
              "      <td>2</td>\n",
              "      <td>3</td>\n",
              "      <td>3</td>\n",
              "      <td>3</td>\n",
              "      <td>5</td>\n",
              "      <td>5</td>\n",
              "      <td>8</td>\n",
              "      <td>9</td>\n",
              "      <td>9</td>\n",
              "    </tr>\n",
              "  </tbody>\n",
              "</table>\n",
              "<p>395 rows × 17 columns</p>\n",
              "</div>"
            ],
            "text/plain": [
              "    Sexo  Edad  Fam Estatus_padres  Tiempo_estudio  ...  health Faltas  G1  G2  G3\n",
              "0      F    18  GT3              A               2  ...       3      6   5   6   6\n",
              "1      F    17  GT3              T               2  ...       3      4   5   5   6\n",
              "2      F    15  LE3              T               2  ...       3     10   7   8  10\n",
              "3      F    15  GT3              T               3  ...       5      2  15  14  15\n",
              "4      F    16  GT3              T               2  ...       5      4   6  10  10\n",
              "..   ...   ...  ...            ...             ...  ...     ...    ...  ..  ..  ..\n",
              "390    M    20  LE3              A               2  ...       4     11   9   9   9\n",
              "391    M    17  LE3              T               1  ...       2      3  14  16  16\n",
              "392    M    21  GT3              T               1  ...       3      3  10   8   7\n",
              "393    M    18  LE3              T               1  ...       5      0  11  12  10\n",
              "394    M    19  LE3              T               1  ...       5      5   8   9   9\n",
              "\n",
              "[395 rows x 17 columns]"
            ]
          },
          "metadata": {},
          "execution_count": 26
        }
      ]
    },
    {
      "cell_type": "markdown",
      "metadata": {
        "id": "CvWC9-HZLnKr"
      },
      "source": [
        "# **Estadística básica de los datos**"
      ]
    },
    {
      "cell_type": "code",
      "metadata": {
        "id": "1pHhvdSZLmDE"
      },
      "source": [
        "pd.plotting.register_matplotlib_converters()\n",
        "import matplotlib.pyplot as plt \n",
        "%matplotlib inline\n",
        "import seaborn as ss "
      ],
      "execution_count": null,
      "outputs": []
    },
    {
      "cell_type": "code",
      "metadata": {
        "colab": {
          "base_uri": "https://localhost:8080/",
          "height": 434
        },
        "id": "u1EXeh9hLvf2",
        "outputId": "55362aed-065f-4050-8c0f-73ada35fecf2"
      },
      "source": [
        "nbf"
      ],
      "execution_count": null,
      "outputs": [
        {
          "output_type": "execute_result",
          "data": {
            "text/html": [
              "<div>\n",
              "<style scoped>\n",
              "    .dataframe tbody tr th:only-of-type {\n",
              "        vertical-align: middle;\n",
              "    }\n",
              "\n",
              "    .dataframe tbody tr th {\n",
              "        vertical-align: top;\n",
              "    }\n",
              "\n",
              "    .dataframe thead th {\n",
              "        text-align: right;\n",
              "    }\n",
              "</style>\n",
              "<table border=\"1\" class=\"dataframe\">\n",
              "  <thead>\n",
              "    <tr style=\"text-align: right;\">\n",
              "      <th></th>\n",
              "      <th>Sexo</th>\n",
              "      <th>Edad</th>\n",
              "      <th>Fam</th>\n",
              "      <th>Estatus_padres</th>\n",
              "      <th>Tiempo_estudio</th>\n",
              "      <th>Reprobadas</th>\n",
              "      <th>Relación</th>\n",
              "      <th>Famrel</th>\n",
              "      <th>Tiempo_libre</th>\n",
              "      <th>Salir</th>\n",
              "      <th>Dalc</th>\n",
              "      <th>Falc</th>\n",
              "      <th>health</th>\n",
              "      <th>Faltas</th>\n",
              "      <th>G1</th>\n",
              "      <th>G2</th>\n",
              "      <th>G3</th>\n",
              "    </tr>\n",
              "  </thead>\n",
              "  <tbody>\n",
              "    <tr>\n",
              "      <th>0</th>\n",
              "      <td>F</td>\n",
              "      <td>18</td>\n",
              "      <td>GT3</td>\n",
              "      <td>A</td>\n",
              "      <td>2</td>\n",
              "      <td>0</td>\n",
              "      <td>no</td>\n",
              "      <td>4</td>\n",
              "      <td>3</td>\n",
              "      <td>4</td>\n",
              "      <td>1</td>\n",
              "      <td>1</td>\n",
              "      <td>3</td>\n",
              "      <td>6</td>\n",
              "      <td>5</td>\n",
              "      <td>6</td>\n",
              "      <td>6</td>\n",
              "    </tr>\n",
              "    <tr>\n",
              "      <th>1</th>\n",
              "      <td>F</td>\n",
              "      <td>17</td>\n",
              "      <td>GT3</td>\n",
              "      <td>T</td>\n",
              "      <td>2</td>\n",
              "      <td>0</td>\n",
              "      <td>no</td>\n",
              "      <td>5</td>\n",
              "      <td>3</td>\n",
              "      <td>3</td>\n",
              "      <td>1</td>\n",
              "      <td>1</td>\n",
              "      <td>3</td>\n",
              "      <td>4</td>\n",
              "      <td>5</td>\n",
              "      <td>5</td>\n",
              "      <td>6</td>\n",
              "    </tr>\n",
              "    <tr>\n",
              "      <th>2</th>\n",
              "      <td>F</td>\n",
              "      <td>15</td>\n",
              "      <td>LE3</td>\n",
              "      <td>T</td>\n",
              "      <td>2</td>\n",
              "      <td>3</td>\n",
              "      <td>no</td>\n",
              "      <td>4</td>\n",
              "      <td>3</td>\n",
              "      <td>2</td>\n",
              "      <td>2</td>\n",
              "      <td>3</td>\n",
              "      <td>3</td>\n",
              "      <td>10</td>\n",
              "      <td>7</td>\n",
              "      <td>8</td>\n",
              "      <td>10</td>\n",
              "    </tr>\n",
              "    <tr>\n",
              "      <th>3</th>\n",
              "      <td>F</td>\n",
              "      <td>15</td>\n",
              "      <td>GT3</td>\n",
              "      <td>T</td>\n",
              "      <td>3</td>\n",
              "      <td>0</td>\n",
              "      <td>yes</td>\n",
              "      <td>3</td>\n",
              "      <td>2</td>\n",
              "      <td>2</td>\n",
              "      <td>1</td>\n",
              "      <td>1</td>\n",
              "      <td>5</td>\n",
              "      <td>2</td>\n",
              "      <td>15</td>\n",
              "      <td>14</td>\n",
              "      <td>15</td>\n",
              "    </tr>\n",
              "    <tr>\n",
              "      <th>4</th>\n",
              "      <td>F</td>\n",
              "      <td>16</td>\n",
              "      <td>GT3</td>\n",
              "      <td>T</td>\n",
              "      <td>2</td>\n",
              "      <td>0</td>\n",
              "      <td>no</td>\n",
              "      <td>4</td>\n",
              "      <td>3</td>\n",
              "      <td>2</td>\n",
              "      <td>1</td>\n",
              "      <td>2</td>\n",
              "      <td>5</td>\n",
              "      <td>4</td>\n",
              "      <td>6</td>\n",
              "      <td>10</td>\n",
              "      <td>10</td>\n",
              "    </tr>\n",
              "    <tr>\n",
              "      <th>...</th>\n",
              "      <td>...</td>\n",
              "      <td>...</td>\n",
              "      <td>...</td>\n",
              "      <td>...</td>\n",
              "      <td>...</td>\n",
              "      <td>...</td>\n",
              "      <td>...</td>\n",
              "      <td>...</td>\n",
              "      <td>...</td>\n",
              "      <td>...</td>\n",
              "      <td>...</td>\n",
              "      <td>...</td>\n",
              "      <td>...</td>\n",
              "      <td>...</td>\n",
              "      <td>...</td>\n",
              "      <td>...</td>\n",
              "      <td>...</td>\n",
              "    </tr>\n",
              "    <tr>\n",
              "      <th>390</th>\n",
              "      <td>M</td>\n",
              "      <td>20</td>\n",
              "      <td>LE3</td>\n",
              "      <td>A</td>\n",
              "      <td>2</td>\n",
              "      <td>2</td>\n",
              "      <td>no</td>\n",
              "      <td>5</td>\n",
              "      <td>5</td>\n",
              "      <td>4</td>\n",
              "      <td>4</td>\n",
              "      <td>5</td>\n",
              "      <td>4</td>\n",
              "      <td>11</td>\n",
              "      <td>9</td>\n",
              "      <td>9</td>\n",
              "      <td>9</td>\n",
              "    </tr>\n",
              "    <tr>\n",
              "      <th>391</th>\n",
              "      <td>M</td>\n",
              "      <td>17</td>\n",
              "      <td>LE3</td>\n",
              "      <td>T</td>\n",
              "      <td>1</td>\n",
              "      <td>0</td>\n",
              "      <td>no</td>\n",
              "      <td>2</td>\n",
              "      <td>4</td>\n",
              "      <td>5</td>\n",
              "      <td>3</td>\n",
              "      <td>4</td>\n",
              "      <td>2</td>\n",
              "      <td>3</td>\n",
              "      <td>14</td>\n",
              "      <td>16</td>\n",
              "      <td>16</td>\n",
              "    </tr>\n",
              "    <tr>\n",
              "      <th>392</th>\n",
              "      <td>M</td>\n",
              "      <td>21</td>\n",
              "      <td>GT3</td>\n",
              "      <td>T</td>\n",
              "      <td>1</td>\n",
              "      <td>3</td>\n",
              "      <td>no</td>\n",
              "      <td>5</td>\n",
              "      <td>5</td>\n",
              "      <td>3</td>\n",
              "      <td>3</td>\n",
              "      <td>3</td>\n",
              "      <td>3</td>\n",
              "      <td>3</td>\n",
              "      <td>10</td>\n",
              "      <td>8</td>\n",
              "      <td>7</td>\n",
              "    </tr>\n",
              "    <tr>\n",
              "      <th>393</th>\n",
              "      <td>M</td>\n",
              "      <td>18</td>\n",
              "      <td>LE3</td>\n",
              "      <td>T</td>\n",
              "      <td>1</td>\n",
              "      <td>0</td>\n",
              "      <td>no</td>\n",
              "      <td>4</td>\n",
              "      <td>4</td>\n",
              "      <td>1</td>\n",
              "      <td>3</td>\n",
              "      <td>4</td>\n",
              "      <td>5</td>\n",
              "      <td>0</td>\n",
              "      <td>11</td>\n",
              "      <td>12</td>\n",
              "      <td>10</td>\n",
              "    </tr>\n",
              "    <tr>\n",
              "      <th>394</th>\n",
              "      <td>M</td>\n",
              "      <td>19</td>\n",
              "      <td>LE3</td>\n",
              "      <td>T</td>\n",
              "      <td>1</td>\n",
              "      <td>0</td>\n",
              "      <td>no</td>\n",
              "      <td>3</td>\n",
              "      <td>2</td>\n",
              "      <td>3</td>\n",
              "      <td>3</td>\n",
              "      <td>3</td>\n",
              "      <td>5</td>\n",
              "      <td>5</td>\n",
              "      <td>8</td>\n",
              "      <td>9</td>\n",
              "      <td>9</td>\n",
              "    </tr>\n",
              "  </tbody>\n",
              "</table>\n",
              "<p>395 rows × 17 columns</p>\n",
              "</div>"
            ],
            "text/plain": [
              "    Sexo  Edad  Fam Estatus_padres  Tiempo_estudio  ...  health Faltas  G1  G2  G3\n",
              "0      F    18  GT3              A               2  ...       3      6   5   6   6\n",
              "1      F    17  GT3              T               2  ...       3      4   5   5   6\n",
              "2      F    15  LE3              T               2  ...       3     10   7   8  10\n",
              "3      F    15  GT3              T               3  ...       5      2  15  14  15\n",
              "4      F    16  GT3              T               2  ...       5      4   6  10  10\n",
              "..   ...   ...  ...            ...             ...  ...     ...    ...  ..  ..  ..\n",
              "390    M    20  LE3              A               2  ...       4     11   9   9   9\n",
              "391    M    17  LE3              T               1  ...       2      3  14  16  16\n",
              "392    M    21  GT3              T               1  ...       3      3  10   8   7\n",
              "393    M    18  LE3              T               1  ...       5      0  11  12  10\n",
              "394    M    19  LE3              T               1  ...       5      5   8   9   9\n",
              "\n",
              "[395 rows x 17 columns]"
            ]
          },
          "metadata": {},
          "execution_count": 28
        }
      ]
    },
    {
      "cell_type": "markdown",
      "metadata": {
        "id": "wjc7liUOL_Sr"
      },
      "source": [
        "Gracias a la respuesta de la primera pregunta de interes, en la estadistica me enfocare en los datos de los hombres, ya que ellos a pesar de que son menos que las mujeres, manejan unos niveles de consumo de alcohol mas elevado. Se sumo el consumo de alcohol en el día de trabajo de los distintos sexos, las 208 mujeres encuestadas sumaron 261 puntos y de los 187 hombres encuestados sumaron 324."
      ]
    },
    {
      "cell_type": "code",
      "metadata": {
        "colab": {
          "base_uri": "https://localhost:8080/",
          "height": 434
        },
        "id": "mG9XZQfWL-wm",
        "outputId": "451adf99-5e1c-4841-8240-b1f2281bafee"
      },
      "source": [
        "#Base de datos hombres \n",
        "Ho=nb['Sexo']==\"M\"\n",
        "Hombres= nb[Ho]\n",
        "Hombres"
      ],
      "execution_count": null,
      "outputs": [
        {
          "output_type": "execute_result",
          "data": {
            "text/html": [
              "<div>\n",
              "<style scoped>\n",
              "    .dataframe tbody tr th:only-of-type {\n",
              "        vertical-align: middle;\n",
              "    }\n",
              "\n",
              "    .dataframe tbody tr th {\n",
              "        vertical-align: top;\n",
              "    }\n",
              "\n",
              "    .dataframe thead th {\n",
              "        text-align: right;\n",
              "    }\n",
              "</style>\n",
              "<table border=\"1\" class=\"dataframe\">\n",
              "  <thead>\n",
              "    <tr style=\"text-align: right;\">\n",
              "      <th></th>\n",
              "      <th>Sexo</th>\n",
              "      <th>Edad</th>\n",
              "      <th>Fam</th>\n",
              "      <th>Estatus_padres</th>\n",
              "      <th>Tiempo_estudio</th>\n",
              "      <th>Reprobadas</th>\n",
              "      <th>Relación</th>\n",
              "      <th>Famrel</th>\n",
              "      <th>Tiempo_libre</th>\n",
              "      <th>Salir</th>\n",
              "      <th>Dalc</th>\n",
              "      <th>Falc</th>\n",
              "      <th>health</th>\n",
              "      <th>Faltas</th>\n",
              "      <th>G1</th>\n",
              "      <th>G2</th>\n",
              "      <th>G3</th>\n",
              "    </tr>\n",
              "  </thead>\n",
              "  <tbody>\n",
              "    <tr>\n",
              "      <th>5</th>\n",
              "      <td>M</td>\n",
              "      <td>16</td>\n",
              "      <td>LE3</td>\n",
              "      <td>T</td>\n",
              "      <td>2</td>\n",
              "      <td>0</td>\n",
              "      <td>no</td>\n",
              "      <td>5</td>\n",
              "      <td>4</td>\n",
              "      <td>2</td>\n",
              "      <td>1</td>\n",
              "      <td>2</td>\n",
              "      <td>5</td>\n",
              "      <td>10</td>\n",
              "      <td>15</td>\n",
              "      <td>15</td>\n",
              "      <td>15</td>\n",
              "    </tr>\n",
              "    <tr>\n",
              "      <th>6</th>\n",
              "      <td>M</td>\n",
              "      <td>16</td>\n",
              "      <td>LE3</td>\n",
              "      <td>T</td>\n",
              "      <td>2</td>\n",
              "      <td>0</td>\n",
              "      <td>no</td>\n",
              "      <td>4</td>\n",
              "      <td>4</td>\n",
              "      <td>4</td>\n",
              "      <td>1</td>\n",
              "      <td>1</td>\n",
              "      <td>3</td>\n",
              "      <td>0</td>\n",
              "      <td>12</td>\n",
              "      <td>12</td>\n",
              "      <td>11</td>\n",
              "    </tr>\n",
              "    <tr>\n",
              "      <th>8</th>\n",
              "      <td>M</td>\n",
              "      <td>15</td>\n",
              "      <td>LE3</td>\n",
              "      <td>A</td>\n",
              "      <td>2</td>\n",
              "      <td>0</td>\n",
              "      <td>no</td>\n",
              "      <td>4</td>\n",
              "      <td>2</td>\n",
              "      <td>2</td>\n",
              "      <td>1</td>\n",
              "      <td>1</td>\n",
              "      <td>1</td>\n",
              "      <td>0</td>\n",
              "      <td>16</td>\n",
              "      <td>18</td>\n",
              "      <td>19</td>\n",
              "    </tr>\n",
              "    <tr>\n",
              "      <th>9</th>\n",
              "      <td>M</td>\n",
              "      <td>15</td>\n",
              "      <td>GT3</td>\n",
              "      <td>T</td>\n",
              "      <td>2</td>\n",
              "      <td>0</td>\n",
              "      <td>no</td>\n",
              "      <td>5</td>\n",
              "      <td>5</td>\n",
              "      <td>1</td>\n",
              "      <td>1</td>\n",
              "      <td>1</td>\n",
              "      <td>5</td>\n",
              "      <td>0</td>\n",
              "      <td>14</td>\n",
              "      <td>15</td>\n",
              "      <td>15</td>\n",
              "    </tr>\n",
              "    <tr>\n",
              "      <th>12</th>\n",
              "      <td>M</td>\n",
              "      <td>15</td>\n",
              "      <td>LE3</td>\n",
              "      <td>T</td>\n",
              "      <td>1</td>\n",
              "      <td>0</td>\n",
              "      <td>no</td>\n",
              "      <td>4</td>\n",
              "      <td>3</td>\n",
              "      <td>3</td>\n",
              "      <td>1</td>\n",
              "      <td>3</td>\n",
              "      <td>5</td>\n",
              "      <td>2</td>\n",
              "      <td>14</td>\n",
              "      <td>14</td>\n",
              "      <td>14</td>\n",
              "    </tr>\n",
              "    <tr>\n",
              "      <th>...</th>\n",
              "      <td>...</td>\n",
              "      <td>...</td>\n",
              "      <td>...</td>\n",
              "      <td>...</td>\n",
              "      <td>...</td>\n",
              "      <td>...</td>\n",
              "      <td>...</td>\n",
              "      <td>...</td>\n",
              "      <td>...</td>\n",
              "      <td>...</td>\n",
              "      <td>...</td>\n",
              "      <td>...</td>\n",
              "      <td>...</td>\n",
              "      <td>...</td>\n",
              "      <td>...</td>\n",
              "      <td>...</td>\n",
              "      <td>...</td>\n",
              "    </tr>\n",
              "    <tr>\n",
              "      <th>390</th>\n",
              "      <td>M</td>\n",
              "      <td>20</td>\n",
              "      <td>LE3</td>\n",
              "      <td>A</td>\n",
              "      <td>2</td>\n",
              "      <td>2</td>\n",
              "      <td>no</td>\n",
              "      <td>5</td>\n",
              "      <td>5</td>\n",
              "      <td>4</td>\n",
              "      <td>4</td>\n",
              "      <td>5</td>\n",
              "      <td>4</td>\n",
              "      <td>11</td>\n",
              "      <td>9</td>\n",
              "      <td>9</td>\n",
              "      <td>9</td>\n",
              "    </tr>\n",
              "    <tr>\n",
              "      <th>391</th>\n",
              "      <td>M</td>\n",
              "      <td>17</td>\n",
              "      <td>LE3</td>\n",
              "      <td>T</td>\n",
              "      <td>1</td>\n",
              "      <td>0</td>\n",
              "      <td>no</td>\n",
              "      <td>2</td>\n",
              "      <td>4</td>\n",
              "      <td>5</td>\n",
              "      <td>3</td>\n",
              "      <td>4</td>\n",
              "      <td>2</td>\n",
              "      <td>3</td>\n",
              "      <td>14</td>\n",
              "      <td>16</td>\n",
              "      <td>16</td>\n",
              "    </tr>\n",
              "    <tr>\n",
              "      <th>392</th>\n",
              "      <td>M</td>\n",
              "      <td>21</td>\n",
              "      <td>GT3</td>\n",
              "      <td>T</td>\n",
              "      <td>1</td>\n",
              "      <td>3</td>\n",
              "      <td>no</td>\n",
              "      <td>5</td>\n",
              "      <td>5</td>\n",
              "      <td>3</td>\n",
              "      <td>3</td>\n",
              "      <td>3</td>\n",
              "      <td>3</td>\n",
              "      <td>3</td>\n",
              "      <td>10</td>\n",
              "      <td>8</td>\n",
              "      <td>7</td>\n",
              "    </tr>\n",
              "    <tr>\n",
              "      <th>393</th>\n",
              "      <td>M</td>\n",
              "      <td>18</td>\n",
              "      <td>LE3</td>\n",
              "      <td>T</td>\n",
              "      <td>1</td>\n",
              "      <td>0</td>\n",
              "      <td>no</td>\n",
              "      <td>4</td>\n",
              "      <td>4</td>\n",
              "      <td>1</td>\n",
              "      <td>3</td>\n",
              "      <td>4</td>\n",
              "      <td>5</td>\n",
              "      <td>0</td>\n",
              "      <td>11</td>\n",
              "      <td>12</td>\n",
              "      <td>10</td>\n",
              "    </tr>\n",
              "    <tr>\n",
              "      <th>394</th>\n",
              "      <td>M</td>\n",
              "      <td>19</td>\n",
              "      <td>LE3</td>\n",
              "      <td>T</td>\n",
              "      <td>1</td>\n",
              "      <td>0</td>\n",
              "      <td>no</td>\n",
              "      <td>3</td>\n",
              "      <td>2</td>\n",
              "      <td>3</td>\n",
              "      <td>3</td>\n",
              "      <td>3</td>\n",
              "      <td>5</td>\n",
              "      <td>5</td>\n",
              "      <td>8</td>\n",
              "      <td>9</td>\n",
              "      <td>9</td>\n",
              "    </tr>\n",
              "  </tbody>\n",
              "</table>\n",
              "<p>187 rows × 17 columns</p>\n",
              "</div>"
            ],
            "text/plain": [
              "    Sexo  Edad  Fam Estatus_padres  Tiempo_estudio  ...  health Faltas  G1  G2  G3\n",
              "5      M    16  LE3              T               2  ...       5     10  15  15  15\n",
              "6      M    16  LE3              T               2  ...       3      0  12  12  11\n",
              "8      M    15  LE3              A               2  ...       1      0  16  18  19\n",
              "9      M    15  GT3              T               2  ...       5      0  14  15  15\n",
              "12     M    15  LE3              T               1  ...       5      2  14  14  14\n",
              "..   ...   ...  ...            ...             ...  ...     ...    ...  ..  ..  ..\n",
              "390    M    20  LE3              A               2  ...       4     11   9   9   9\n",
              "391    M    17  LE3              T               1  ...       2      3  14  16  16\n",
              "392    M    21  GT3              T               1  ...       3      3  10   8   7\n",
              "393    M    18  LE3              T               1  ...       5      0  11  12  10\n",
              "394    M    19  LE3              T               1  ...       5      5   8   9   9\n",
              "\n",
              "[187 rows x 17 columns]"
            ]
          },
          "metadata": {},
          "execution_count": 31
        }
      ]
    },
    {
      "cell_type": "code",
      "metadata": {
        "colab": {
          "base_uri": "https://localhost:8080/"
        },
        "id": "EVN7TT_xMc1G",
        "outputId": "ad682443-6fef-46b2-8d61-fc1d987945da"
      },
      "source": [
        "print(\"Estadistica descriptiva de edades hombres\")\n",
        "print(Hombres[\"Edad\"].describe())"
      ],
      "execution_count": null,
      "outputs": [
        {
          "output_type": "stream",
          "name": "stdout",
          "text": [
            "Estadistica descriptiva de edades hombres\n",
            "count    187.000000\n",
            "mean      16.657754\n",
            "std        1.356181\n",
            "min       15.000000\n",
            "25%       16.000000\n",
            "50%       16.000000\n",
            "75%       18.000000\n",
            "max       22.000000\n",
            "Name: Edad, dtype: float64\n"
          ]
        }
      ]
    },
    {
      "cell_type": "markdown",
      "metadata": {
        "id": "1NSlgDNiSyU2"
      },
      "source": [
        "***Tiempo de estudio***"
      ]
    },
    {
      "cell_type": "code",
      "metadata": {
        "colab": {
          "base_uri": "https://localhost:8080/"
        },
        "id": "a-EjyNJVNU7F",
        "outputId": "beeb20ce-8962-42cc-c45b-ba356c1f7d78"
      },
      "source": [
        "print(\"Estadisticas descriptivas sobre el Tiempo de Estudio de los hombres\")\n",
        "print(Hombres[\"Tiempo_estudio\"].describe())"
      ],
      "execution_count": null,
      "outputs": [
        {
          "output_type": "stream",
          "name": "stdout",
          "text": [
            "Estadisticas descriptivas sobre el Tiempo de Estudio de los hombres\n",
            "count    187.000000\n",
            "mean       1.764706\n",
            "std        0.808713\n",
            "min        1.000000\n",
            "25%        1.000000\n",
            "50%        2.000000\n",
            "75%        2.000000\n",
            "max        4.000000\n",
            "Name: Tiempo_estudio, dtype: float64\n"
          ]
        }
      ]
    },
    {
      "cell_type": "code",
      "metadata": {
        "colab": {
          "base_uri": "https://localhost:8080/"
        },
        "id": "eYtrfWvZOFD1",
        "outputId": "24b0e2ed-5af0-492f-cc64-3380c19634c7"
      },
      "source": [
        "print(\"Media sobre el Tiempo de Estudio de las mujeres\")\n",
        "Mu=nb['Sexo']==\"F\"\n",
        "nb_mujeres = nb[Mu]\n",
        "print(nb_mujeres[\"Tiempo_estudio\"].mean())"
      ],
      "execution_count": null,
      "outputs": [
        {
          "output_type": "stream",
          "name": "stdout",
          "text": [
            "Media sobre el Tiempo de Estudio de las mujeres\n",
            "2.2788461538461537\n"
          ]
        }
      ]
    },
    {
      "cell_type": "markdown",
      "metadata": {
        "id": "_8T76UKCSKft"
      },
      "source": [
        "\n",
        "Como podemos observar el promedio de tiempo de estudio de los hombres es significativamente bajo e incluso el promedio de tiempo de estudio de las mujeres también es bajo, pero en comparación el promedio de 1.76 de los hombres siguen siendo mas bajo. \n",
        "\n",
        "Algunos tips que ayudarían a estos adolescentes a emplear mejor su tiempo son: crear un calendario, crear un planificador semanal o crear una lista de verificación diaria, también es de mucha ayuda definir un lugar de estudio, tener todos los útiles al alcance y establecer recompensas. \n"
      ]
    },
    {
      "cell_type": "markdown",
      "metadata": {
        "id": "My8VsQqQS4L3"
      },
      "source": [
        "***Consumo de alcohol entre semana y en fin de semana***"
      ]
    },
    {
      "cell_type": "code",
      "metadata": {
        "colab": {
          "base_uri": "https://localhost:8080/"
        },
        "id": "acGXkLr9SaL4",
        "outputId": "d74a0f14-1e2a-4415-9d13-63de3bd10c29"
      },
      "source": [
        "print(\"Estadisticas descriptivas sobre el consumo de alcohol de los hombres entre semana\")\n",
        "print(Hombres[\"Dalc\"].describe())"
      ],
      "execution_count": null,
      "outputs": [
        {
          "output_type": "stream",
          "name": "stdout",
          "text": [
            "Estadisticas descriptivas sobre el consumo de alcohol de los hombres entre semana\n",
            "count    187.000000\n",
            "mean       1.732620\n",
            "std        1.079205\n",
            "min        1.000000\n",
            "25%        1.000000\n",
            "50%        1.000000\n",
            "75%        2.000000\n",
            "max        5.000000\n",
            "Name: Dalc, dtype: float64\n"
          ]
        }
      ]
    },
    {
      "cell_type": "code",
      "metadata": {
        "colab": {
          "base_uri": "https://localhost:8080/"
        },
        "id": "AY2eS-9SUc17",
        "outputId": "47d14cba-3026-4c70-ad8b-65cc0d0866a6"
      },
      "source": [
        "print(\"Estadisticas descriptivas sobre el consumo de alcohol de los hombres en fin de semana\")\n",
        "print(Hombres[\"Falc\"].describe())"
      ],
      "execution_count": null,
      "outputs": [
        {
          "output_type": "stream",
          "name": "stdout",
          "text": [
            "Estadisticas descriptivas sobre el consumo de alcohol de los hombres en fin de semana\n",
            "count    187.000000\n",
            "mean       2.663102\n",
            "std        1.417584\n",
            "min        1.000000\n",
            "25%        1.000000\n",
            "50%        3.000000\n",
            "75%        4.000000\n",
            "max        5.000000\n",
            "Name: Falc, dtype: float64\n"
          ]
        }
      ]
    },
    {
      "cell_type": "markdown",
      "metadata": {
        "id": "uwQ4XgbeW4C5"
      },
      "source": [
        "La media de los hombres de consumo de alcohol entre semana es muy ´poca de 1.73 y la media de consumo de fin de semana es las alta pero sigue siendo baja de 2.66, lo cual es bueno porque con el tiempo, el consumo excesivo de alcohol puede causar enfermedades crónicas y otros serios problemas como los siguientes: Alta presión arterial, enfermedad cardiaca, accidentes cerebrovasculares, enfermedad del hígado y problemas digestivos. Cáncer de mama, boca, garganta, laringe, esófago, hígado, colon y recto."
      ]
    },
    {
      "cell_type": "markdown",
      "metadata": {
        "id": "CODNMaM0pCbY"
      },
      "source": [
        "***Consumo de alcohol legal o ilegal***"
      ]
    },
    {
      "cell_type": "code",
      "metadata": {
        "colab": {
          "base_uri": "https://localhost:8080/"
        },
        "id": "ZcfAhDX4UXpE",
        "outputId": "19a21e1e-6e28-4256-9b6b-d6101a18c915"
      },
      "source": [
        "menores=sum(Hombres.Edad<16)\n",
        "cv=sum(Hombres.Edad<18)-menores\n",
        "mayores=sum(Hombres.Edad>17)\n",
        "print(\"La cantidad de alumnos hombres que son menores de edad es:\", menores)\n",
        "print(\"La cantidad de alumnos hombres que pueden consumir cerveza y vino es:\", cv)\n",
        "print(\"La cantidad de alumnos hombres que son mayores de edad es:\", mayores)"
      ],
      "execution_count": null,
      "outputs": [
        {
          "output_type": "stream",
          "name": "stdout",
          "text": [
            "La cantidad de alumnos hombres que son menores de edad es: 44\n",
            "La cantidad de alumnos hombres que pueden consumir cerveza y vino es: 90\n",
            "La cantidad de alumnos hombres que son mayores de edad es: 53\n"
          ]
        }
      ]
    },
    {
      "cell_type": "markdown",
      "metadata": {
        "id": "05gKaLaTrEKw"
      },
      "source": [
        "\n",
        "Este estudio esta enfocado en alumnos de Portugal por lo tanto la leyes son un poco diferentes que en México. La edad legal para comprar cerveza y vino en portugal es de 16 años, para el resto de las bebidas es a los 18, la mayoría de edad. Teniendo esto en mente solo el 28.34% de los alumnos hombres que consumen alcohol son mayores de edad. \n"
      ]
    },
    {
      "cell_type": "code",
      "metadata": {
        "colab": {
          "base_uri": "https://localhost:8080/"
        },
        "id": "zfHr7ll54TSg",
        "outputId": "16183509-77c6-40ed-ad7b-2a3bca8b26ab"
      },
      "source": [
        "print(\"Estadisticas descriptivas sobre la relación familiar de los hombres\")\n",
        "print(Hombres[\"Famrel\"].describe())"
      ],
      "execution_count": null,
      "outputs": [
        {
          "output_type": "stream",
          "name": "stdout",
          "text": [
            "Estadisticas descriptivas sobre la relación familiar de los hombres\n",
            "count    187.000000\n",
            "mean       4.000000\n",
            "std        0.898027\n",
            "min        1.000000\n",
            "25%        4.000000\n",
            "50%        4.000000\n",
            "75%        5.000000\n",
            "max        5.000000\n",
            "Name: Famrel, dtype: float64\n"
          ]
        }
      ]
    },
    {
      "cell_type": "markdown",
      "metadata": {
        "id": "FNPL2QcRbOmq"
      },
      "source": [
        "***Medias de las calificaciones de los alumnos en los periodos***"
      ]
    },
    {
      "cell_type": "code",
      "metadata": {
        "colab": {
          "base_uri": "https://localhost:8080/"
        },
        "id": "i9birI0abOFi",
        "outputId": "58d9e255-076c-40ce-b3bd-10a5a9766bbd"
      },
      "source": [
        "M1=Hombres['G1'].mean()\n",
        "M2=Hombres['G2'].mean()\n",
        "M3=Hombres['G3'].mean()\n",
        "\n",
        "print(\"Media del periodo 1\", M1)\n",
        "print(\"Media del periodo 2\", M2)\n",
        "print(\"Media del periodo 3\", M3)\n"
      ],
      "execution_count": null,
      "outputs": [
        {
          "output_type": "stream",
          "name": "stdout",
          "text": [
            "Media del periodo 1 11.229946524064172\n",
            "Media del periodo 2 11.074866310160427\n",
            "Media del periodo 3 10.914438502673796\n"
          ]
        }
      ]
    },
    {
      "cell_type": "markdown",
      "metadata": {
        "id": "rMy3ysA0cjlc"
      },
      "source": [
        "Estas calificaciones se miden en una escala del 0-20, esto muestra que en general los hombres no manejan buenas calificaciones y me atrevería a decir que hasta tienen algunos calificaciones reprobatorias porque el promedio es muy bajo. "
      ]
    },
    {
      "cell_type": "markdown",
      "metadata": {
        "id": "-uXYTrGftNew"
      },
      "source": [
        "***Correlación y Covarianza***"
      ]
    },
    {
      "cell_type": "code",
      "metadata": {
        "colab": {
          "base_uri": "https://localhost:8080/",
          "height": 467
        },
        "id": "cAUGoL2dtMYO",
        "outputId": "dda38c24-4ab3-425b-d053-a07e81a83ee1"
      },
      "source": [
        "Hombres.corr()"
      ],
      "execution_count": null,
      "outputs": [
        {
          "output_type": "execute_result",
          "data": {
            "text/html": [
              "<div>\n",
              "<style scoped>\n",
              "    .dataframe tbody tr th:only-of-type {\n",
              "        vertical-align: middle;\n",
              "    }\n",
              "\n",
              "    .dataframe tbody tr th {\n",
              "        vertical-align: top;\n",
              "    }\n",
              "\n",
              "    .dataframe thead th {\n",
              "        text-align: right;\n",
              "    }\n",
              "</style>\n",
              "<table border=\"1\" class=\"dataframe\">\n",
              "  <thead>\n",
              "    <tr style=\"text-align: right;\">\n",
              "      <th></th>\n",
              "      <th>Edad</th>\n",
              "      <th>Tiempo_estudio</th>\n",
              "      <th>Reprobadas</th>\n",
              "      <th>Famrel</th>\n",
              "      <th>Tiempo_libre</th>\n",
              "      <th>Salir</th>\n",
              "      <th>Dalc</th>\n",
              "      <th>Falc</th>\n",
              "      <th>health</th>\n",
              "      <th>Faltas</th>\n",
              "      <th>G1</th>\n",
              "      <th>G2</th>\n",
              "      <th>G3</th>\n",
              "    </tr>\n",
              "  </thead>\n",
              "  <tbody>\n",
              "    <tr>\n",
              "      <th>Edad</th>\n",
              "      <td>1.000000</td>\n",
              "      <td>-0.152251</td>\n",
              "      <td>0.375306</td>\n",
              "      <td>0.030901</td>\n",
              "      <td>0.036182</td>\n",
              "      <td>0.176930</td>\n",
              "      <td>0.245704</td>\n",
              "      <td>0.247321</td>\n",
              "      <td>-0.053293</td>\n",
              "      <td>0.244087</td>\n",
              "      <td>-0.225840</td>\n",
              "      <td>-0.274882</td>\n",
              "      <td>-0.272040</td>\n",
              "    </tr>\n",
              "    <tr>\n",
              "      <th>Tiempo_estudio</th>\n",
              "      <td>-0.152251</td>\n",
              "      <td>1.000000</td>\n",
              "      <td>-0.251064</td>\n",
              "      <td>-0.007403</td>\n",
              "      <td>-0.050350</td>\n",
              "      <td>-0.036861</td>\n",
              "      <td>-0.115593</td>\n",
              "      <td>-0.168001</td>\n",
              "      <td>-0.115571</td>\n",
              "      <td>-0.074083</td>\n",
              "      <td>0.190295</td>\n",
              "      <td>0.198154</td>\n",
              "      <td>0.176335</td>\n",
              "    </tr>\n",
              "    <tr>\n",
              "      <th>Reprobadas</th>\n",
              "      <td>0.375306</td>\n",
              "      <td>-0.251064</td>\n",
              "      <td>1.000000</td>\n",
              "      <td>0.030384</td>\n",
              "      <td>0.247977</td>\n",
              "      <td>0.278513</td>\n",
              "      <td>0.148218</td>\n",
              "      <td>0.198477</td>\n",
              "      <td>0.021507</td>\n",
              "      <td>0.060493</td>\n",
              "      <td>-0.476230</td>\n",
              "      <td>-0.465862</td>\n",
              "      <td>-0.478148</td>\n",
              "    </tr>\n",
              "    <tr>\n",
              "      <th>Famrel</th>\n",
              "      <td>0.030901</td>\n",
              "      <td>-0.007403</td>\n",
              "      <td>0.030384</td>\n",
              "      <td>1.000000</td>\n",
              "      <td>0.173285</td>\n",
              "      <td>-0.026370</td>\n",
              "      <td>-0.155329</td>\n",
              "      <td>-0.194270</td>\n",
              "      <td>0.164898</td>\n",
              "      <td>-0.067068</td>\n",
              "      <td>0.015881</td>\n",
              "      <td>-0.046433</td>\n",
              "      <td>0.046613</td>\n",
              "    </tr>\n",
              "    <tr>\n",
              "      <th>Tiempo_libre</th>\n",
              "      <td>0.036182</td>\n",
              "      <td>-0.050350</td>\n",
              "      <td>0.247977</td>\n",
              "      <td>0.173285</td>\n",
              "      <td>1.000000</td>\n",
              "      <td>0.203239</td>\n",
              "      <td>0.145842</td>\n",
              "      <td>0.002490</td>\n",
              "      <td>0.085530</td>\n",
              "      <td>0.028586</td>\n",
              "      <td>0.011189</td>\n",
              "      <td>-0.038583</td>\n",
              "      <td>-0.024129</td>\n",
              "    </tr>\n",
              "    <tr>\n",
              "      <th>Salir</th>\n",
              "      <td>0.176930</td>\n",
              "      <td>-0.036861</td>\n",
              "      <td>0.278513</td>\n",
              "      <td>-0.026370</td>\n",
              "      <td>0.203239</td>\n",
              "      <td>1.000000</td>\n",
              "      <td>0.333063</td>\n",
              "      <td>0.539459</td>\n",
              "      <td>0.037746</td>\n",
              "      <td>0.228589</td>\n",
              "      <td>-0.228247</td>\n",
              "      <td>-0.248277</td>\n",
              "      <td>-0.234775</td>\n",
              "    </tr>\n",
              "    <tr>\n",
              "      <th>Dalc</th>\n",
              "      <td>0.245704</td>\n",
              "      <td>-0.115593</td>\n",
              "      <td>0.148218</td>\n",
              "      <td>-0.155329</td>\n",
              "      <td>0.145842</td>\n",
              "      <td>0.333063</td>\n",
              "      <td>1.000000</td>\n",
              "      <td>0.675284</td>\n",
              "      <td>0.041666</td>\n",
              "      <td>0.198429</td>\n",
              "      <td>-0.194556</td>\n",
              "      <td>-0.143289</td>\n",
              "      <td>-0.145485</td>\n",
              "    </tr>\n",
              "    <tr>\n",
              "      <th>Falc</th>\n",
              "      <td>0.247321</td>\n",
              "      <td>-0.168001</td>\n",
              "      <td>0.198477</td>\n",
              "      <td>-0.194270</td>\n",
              "      <td>0.002490</td>\n",
              "      <td>0.539459</td>\n",
              "      <td>0.675284</td>\n",
              "      <td>1.000000</td>\n",
              "      <td>0.124722</td>\n",
              "      <td>0.241033</td>\n",
              "      <td>-0.310212</td>\n",
              "      <td>-0.263048</td>\n",
              "      <td>-0.235717</td>\n",
              "    </tr>\n",
              "    <tr>\n",
              "      <th>health</th>\n",
              "      <td>-0.053293</td>\n",
              "      <td>-0.115571</td>\n",
              "      <td>0.021507</td>\n",
              "      <td>0.164898</td>\n",
              "      <td>0.085530</td>\n",
              "      <td>0.037746</td>\n",
              "      <td>0.041666</td>\n",
              "      <td>0.124722</td>\n",
              "      <td>1.000000</td>\n",
              "      <td>-0.041253</td>\n",
              "      <td>-0.051764</td>\n",
              "      <td>-0.077297</td>\n",
              "      <td>-0.063893</td>\n",
              "    </tr>\n",
              "    <tr>\n",
              "      <th>Faltas</th>\n",
              "      <td>0.244087</td>\n",
              "      <td>-0.074083</td>\n",
              "      <td>0.060493</td>\n",
              "      <td>-0.067068</td>\n",
              "      <td>0.028586</td>\n",
              "      <td>0.228589</td>\n",
              "      <td>0.198429</td>\n",
              "      <td>0.241033</td>\n",
              "      <td>-0.041253</td>\n",
              "      <td>1.000000</td>\n",
              "      <td>-0.109746</td>\n",
              "      <td>-0.118761</td>\n",
              "      <td>-0.037133</td>\n",
              "    </tr>\n",
              "    <tr>\n",
              "      <th>G1</th>\n",
              "      <td>-0.225840</td>\n",
              "      <td>0.190295</td>\n",
              "      <td>-0.476230</td>\n",
              "      <td>0.015881</td>\n",
              "      <td>0.011189</td>\n",
              "      <td>-0.228247</td>\n",
              "      <td>-0.194556</td>\n",
              "      <td>-0.310212</td>\n",
              "      <td>-0.051764</td>\n",
              "      <td>-0.109746</td>\n",
              "      <td>1.000000</td>\n",
              "      <td>0.862252</td>\n",
              "      <td>0.830741</td>\n",
              "    </tr>\n",
              "    <tr>\n",
              "      <th>G2</th>\n",
              "      <td>-0.274882</td>\n",
              "      <td>0.198154</td>\n",
              "      <td>-0.465862</td>\n",
              "      <td>-0.046433</td>\n",
              "      <td>-0.038583</td>\n",
              "      <td>-0.248277</td>\n",
              "      <td>-0.143289</td>\n",
              "      <td>-0.263048</td>\n",
              "      <td>-0.077297</td>\n",
              "      <td>-0.118761</td>\n",
              "      <td>0.862252</td>\n",
              "      <td>1.000000</td>\n",
              "      <td>0.931665</td>\n",
              "    </tr>\n",
              "    <tr>\n",
              "      <th>G3</th>\n",
              "      <td>-0.272040</td>\n",
              "      <td>0.176335</td>\n",
              "      <td>-0.478148</td>\n",
              "      <td>0.046613</td>\n",
              "      <td>-0.024129</td>\n",
              "      <td>-0.234775</td>\n",
              "      <td>-0.145485</td>\n",
              "      <td>-0.235717</td>\n",
              "      <td>-0.063893</td>\n",
              "      <td>-0.037133</td>\n",
              "      <td>0.830741</td>\n",
              "      <td>0.931665</td>\n",
              "      <td>1.000000</td>\n",
              "    </tr>\n",
              "  </tbody>\n",
              "</table>\n",
              "</div>"
            ],
            "text/plain": [
              "                    Edad  Tiempo_estudio  ...        G2        G3\n",
              "Edad            1.000000       -0.152251  ... -0.274882 -0.272040\n",
              "Tiempo_estudio -0.152251        1.000000  ...  0.198154  0.176335\n",
              "Reprobadas      0.375306       -0.251064  ... -0.465862 -0.478148\n",
              "Famrel          0.030901       -0.007403  ... -0.046433  0.046613\n",
              "Tiempo_libre    0.036182       -0.050350  ... -0.038583 -0.024129\n",
              "Salir           0.176930       -0.036861  ... -0.248277 -0.234775\n",
              "Dalc            0.245704       -0.115593  ... -0.143289 -0.145485\n",
              "Falc            0.247321       -0.168001  ... -0.263048 -0.235717\n",
              "health         -0.053293       -0.115571  ... -0.077297 -0.063893\n",
              "Faltas          0.244087       -0.074083  ... -0.118761 -0.037133\n",
              "G1             -0.225840        0.190295  ...  0.862252  0.830741\n",
              "G2             -0.274882        0.198154  ...  1.000000  0.931665\n",
              "G3             -0.272040        0.176335  ...  0.931665  1.000000\n",
              "\n",
              "[13 rows x 13 columns]"
            ]
          },
          "metadata": {},
          "execution_count": 40
        }
      ]
    },
    {
      "cell_type": "code",
      "metadata": {
        "colab": {
          "base_uri": "https://localhost:8080/",
          "height": 467
        },
        "id": "6Lu57tFjtUgm",
        "outputId": "bdf0a32d-d33b-4173-896d-2f27ebbf68a6"
      },
      "source": [
        "Hombres.cov()"
      ],
      "execution_count": null,
      "outputs": [
        {
          "output_type": "execute_result",
          "data": {
            "text/html": [
              "<div>\n",
              "<style scoped>\n",
              "    .dataframe tbody tr th:only-of-type {\n",
              "        vertical-align: middle;\n",
              "    }\n",
              "\n",
              "    .dataframe tbody tr th {\n",
              "        vertical-align: top;\n",
              "    }\n",
              "\n",
              "    .dataframe thead th {\n",
              "        text-align: right;\n",
              "    }\n",
              "</style>\n",
              "<table border=\"1\" class=\"dataframe\">\n",
              "  <thead>\n",
              "    <tr style=\"text-align: right;\">\n",
              "      <th></th>\n",
              "      <th>Edad</th>\n",
              "      <th>Tiempo_estudio</th>\n",
              "      <th>Reprobadas</th>\n",
              "      <th>Famrel</th>\n",
              "      <th>Tiempo_libre</th>\n",
              "      <th>Salir</th>\n",
              "      <th>Dalc</th>\n",
              "      <th>Falc</th>\n",
              "      <th>health</th>\n",
              "      <th>Faltas</th>\n",
              "      <th>G1</th>\n",
              "      <th>G2</th>\n",
              "      <th>G3</th>\n",
              "    </tr>\n",
              "  </thead>\n",
              "  <tbody>\n",
              "    <tr>\n",
              "      <th>Edad</th>\n",
              "      <td>1.839227</td>\n",
              "      <td>-0.166983</td>\n",
              "      <td>0.401156</td>\n",
              "      <td>0.037634</td>\n",
              "      <td>0.049163</td>\n",
              "      <td>0.272382</td>\n",
              "      <td>0.359611</td>\n",
              "      <td>0.475476</td>\n",
              "      <td>-0.097090</td>\n",
              "      <td>1.979788</td>\n",
              "      <td>-1.039158</td>\n",
              "      <td>-1.441981</td>\n",
              "      <td>-1.658473</td>\n",
              "    </tr>\n",
              "    <tr>\n",
              "      <th>Tiempo_estudio</th>\n",
              "      <td>-0.166983</td>\n",
              "      <td>0.654016</td>\n",
              "      <td>-0.160025</td>\n",
              "      <td>-0.005376</td>\n",
              "      <td>-0.040797</td>\n",
              "      <td>-0.033839</td>\n",
              "      <td>-0.100886</td>\n",
              "      <td>-0.192600</td>\n",
              "      <td>-0.125553</td>\n",
              "      <td>-0.358318</td>\n",
              "      <td>0.522138</td>\n",
              "      <td>0.619861</td>\n",
              "      <td>0.641050</td>\n",
              "    </tr>\n",
              "    <tr>\n",
              "      <th>Reprobadas</th>\n",
              "      <td>0.401156</td>\n",
              "      <td>-0.160025</td>\n",
              "      <td>0.621183</td>\n",
              "      <td>0.021505</td>\n",
              "      <td>0.195820</td>\n",
              "      <td>0.249181</td>\n",
              "      <td>0.126071</td>\n",
              "      <td>0.221753</td>\n",
              "      <td>0.022770</td>\n",
              "      <td>0.285147</td>\n",
              "      <td>-1.273475</td>\n",
              "      <td>-1.420246</td>\n",
              "      <td>-1.694066</td>\n",
              "    </tr>\n",
              "    <tr>\n",
              "      <th>Famrel</th>\n",
              "      <td>0.037634</td>\n",
              "      <td>-0.005376</td>\n",
              "      <td>0.021505</td>\n",
              "      <td>0.806452</td>\n",
              "      <td>0.155914</td>\n",
              "      <td>-0.026882</td>\n",
              "      <td>-0.150538</td>\n",
              "      <td>-0.247312</td>\n",
              "      <td>0.198925</td>\n",
              "      <td>-0.360215</td>\n",
              "      <td>0.048387</td>\n",
              "      <td>-0.161290</td>\n",
              "      <td>0.188172</td>\n",
              "    </tr>\n",
              "    <tr>\n",
              "      <th>Tiempo_libre</th>\n",
              "      <td>0.049163</td>\n",
              "      <td>-0.040797</td>\n",
              "      <td>0.195820</td>\n",
              "      <td>0.155914</td>\n",
              "      <td>1.003853</td>\n",
              "      <td>0.231154</td>\n",
              "      <td>0.157697</td>\n",
              "      <td>0.003536</td>\n",
              "      <td>0.115117</td>\n",
              "      <td>0.171295</td>\n",
              "      <td>0.038037</td>\n",
              "      <td>-0.149531</td>\n",
              "      <td>-0.108677</td>\n",
              "    </tr>\n",
              "    <tr>\n",
              "      <th>Salir</th>\n",
              "      <td>0.272382</td>\n",
              "      <td>-0.033839</td>\n",
              "      <td>0.249181</td>\n",
              "      <td>-0.026882</td>\n",
              "      <td>0.231154</td>\n",
              "      <td>1.288598</td>\n",
              "      <td>0.408027</td>\n",
              "      <td>0.868093</td>\n",
              "      <td>0.057559</td>\n",
              "      <td>1.551923</td>\n",
              "      <td>-0.879075</td>\n",
              "      <td>-1.090162</td>\n",
              "      <td>-1.198033</td>\n",
              "    </tr>\n",
              "    <tr>\n",
              "      <th>Dalc</th>\n",
              "      <td>0.359611</td>\n",
              "      <td>-0.100886</td>\n",
              "      <td>0.126071</td>\n",
              "      <td>-0.150538</td>\n",
              "      <td>0.157697</td>\n",
              "      <td>0.408027</td>\n",
              "      <td>1.164683</td>\n",
              "      <td>1.033092</td>\n",
              "      <td>0.060405</td>\n",
              "      <td>1.280749</td>\n",
              "      <td>-0.712380</td>\n",
              "      <td>-0.598154</td>\n",
              "      <td>-0.705796</td>\n",
              "    </tr>\n",
              "    <tr>\n",
              "      <th>Falc</th>\n",
              "      <td>0.475476</td>\n",
              "      <td>-0.192600</td>\n",
              "      <td>0.221753</td>\n",
              "      <td>-0.247312</td>\n",
              "      <td>0.003536</td>\n",
              "      <td>0.868093</td>\n",
              "      <td>1.033092</td>\n",
              "      <td>2.009545</td>\n",
              "      <td>0.237508</td>\n",
              "      <td>2.043528</td>\n",
              "      <td>-1.492007</td>\n",
              "      <td>-1.442384</td>\n",
              "      <td>-1.502099</td>\n",
              "    </tr>\n",
              "    <tr>\n",
              "      <th>health</th>\n",
              "      <td>-0.097090</td>\n",
              "      <td>-0.125553</td>\n",
              "      <td>0.022770</td>\n",
              "      <td>0.198925</td>\n",
              "      <td>0.115117</td>\n",
              "      <td>0.057559</td>\n",
              "      <td>0.060405</td>\n",
              "      <td>0.237508</td>\n",
              "      <td>1.804554</td>\n",
              "      <td>-0.331436</td>\n",
              "      <td>-0.235927</td>\n",
              "      <td>-0.401645</td>\n",
              "      <td>-0.385832</td>\n",
              "    </tr>\n",
              "    <tr>\n",
              "      <th>Faltas</th>\n",
              "      <td>1.979788</td>\n",
              "      <td>-0.358318</td>\n",
              "      <td>0.285147</td>\n",
              "      <td>-0.360215</td>\n",
              "      <td>0.171295</td>\n",
              "      <td>1.551923</td>\n",
              "      <td>1.280749</td>\n",
              "      <td>2.043528</td>\n",
              "      <td>-0.331436</td>\n",
              "      <td>35.769363</td>\n",
              "      <td>-2.226928</td>\n",
              "      <td>-2.747427</td>\n",
              "      <td>-0.998332</td>\n",
              "    </tr>\n",
              "    <tr>\n",
              "      <th>G1</th>\n",
              "      <td>-1.039158</td>\n",
              "      <td>0.522138</td>\n",
              "      <td>-1.273475</td>\n",
              "      <td>0.048387</td>\n",
              "      <td>0.038037</td>\n",
              "      <td>-0.879075</td>\n",
              "      <td>-0.712380</td>\n",
              "      <td>-1.492007</td>\n",
              "      <td>-0.235927</td>\n",
              "      <td>-2.226928</td>\n",
              "      <td>11.511356</td>\n",
              "      <td>11.316026</td>\n",
              "      <td>12.670318</td>\n",
              "    </tr>\n",
              "    <tr>\n",
              "      <th>G2</th>\n",
              "      <td>-1.441981</td>\n",
              "      <td>0.619861</td>\n",
              "      <td>-1.420246</td>\n",
              "      <td>-0.161290</td>\n",
              "      <td>-0.149531</td>\n",
              "      <td>-1.090162</td>\n",
              "      <td>-0.598154</td>\n",
              "      <td>-1.442384</td>\n",
              "      <td>-0.401645</td>\n",
              "      <td>-2.747427</td>\n",
              "      <td>11.316026</td>\n",
              "      <td>14.962107</td>\n",
              "      <td>16.199988</td>\n",
              "    </tr>\n",
              "    <tr>\n",
              "      <th>G3</th>\n",
              "      <td>-1.658473</td>\n",
              "      <td>0.641050</td>\n",
              "      <td>-1.694066</td>\n",
              "      <td>0.188172</td>\n",
              "      <td>-0.108677</td>\n",
              "      <td>-1.198033</td>\n",
              "      <td>-0.705796</td>\n",
              "      <td>-1.502099</td>\n",
              "      <td>-0.385832</td>\n",
              "      <td>-0.998332</td>\n",
              "      <td>12.670318</td>\n",
              "      <td>16.199988</td>\n",
              "      <td>20.207694</td>\n",
              "    </tr>\n",
              "  </tbody>\n",
              "</table>\n",
              "</div>"
            ],
            "text/plain": [
              "                    Edad  Tiempo_estudio  ...         G2         G3\n",
              "Edad            1.839227       -0.166983  ...  -1.441981  -1.658473\n",
              "Tiempo_estudio -0.166983        0.654016  ...   0.619861   0.641050\n",
              "Reprobadas      0.401156       -0.160025  ...  -1.420246  -1.694066\n",
              "Famrel          0.037634       -0.005376  ...  -0.161290   0.188172\n",
              "Tiempo_libre    0.049163       -0.040797  ...  -0.149531  -0.108677\n",
              "Salir           0.272382       -0.033839  ...  -1.090162  -1.198033\n",
              "Dalc            0.359611       -0.100886  ...  -0.598154  -0.705796\n",
              "Falc            0.475476       -0.192600  ...  -1.442384  -1.502099\n",
              "health         -0.097090       -0.125553  ...  -0.401645  -0.385832\n",
              "Faltas          1.979788       -0.358318  ...  -2.747427  -0.998332\n",
              "G1             -1.039158        0.522138  ...  11.316026  12.670318\n",
              "G2             -1.441981        0.619861  ...  14.962107  16.199988\n",
              "G3             -1.658473        0.641050  ...  16.199988  20.207694\n",
              "\n",
              "[13 rows x 13 columns]"
            ]
          },
          "metadata": {},
          "execution_count": 41
        }
      ]
    },
    {
      "cell_type": "markdown",
      "metadata": {
        "id": "5GZazDUcz-3h"
      },
      "source": [
        "# **Gráficos[Visualización de datos]**"
      ]
    },
    {
      "cell_type": "code",
      "metadata": {
        "id": "CiH2he0rz6gT"
      },
      "source": [
        "import pandas as pd \n",
        "pd.plotting.register_matplotlib_converters()\n",
        "import matplotlib.pyplot as plt \n",
        "%matplotlib inline \n",
        "import seaborn as sns"
      ],
      "execution_count": null,
      "outputs": []
    },
    {
      "cell_type": "code",
      "metadata": {
        "colab": {
          "base_uri": "https://localhost:8080/",
          "height": 402
        },
        "id": "uZUsECfDBSpP",
        "outputId": "0fc746f5-e212-478d-8bc0-3d63e11328e8"
      },
      "source": [
        "sns.catplot(x=\"Sexo\",kind=\"count\",data=nbf)\n",
        "plt.title(\"Sexo de los alumnos\")\n",
        "plt.ylabel(\"Cantidad de estudiantes\")"
      ],
      "execution_count": null,
      "outputs": [
        {
          "output_type": "execute_result",
          "data": {
            "text/plain": [
              "Text(3.549999999999997, 0.5, 'Cantidad de estudiantes')"
            ]
          },
          "metadata": {},
          "execution_count": 53
        },
        {
          "output_type": "display_data",
          "data": {
            "image/png": "[encoded data removed]",
            "text/plain": [
              "<Figure size 360x360 with 1 Axes>"
            ]
          },
          "metadata": {
            "needs_background": "light"
          }
        }
      ]
    },
    {
      "cell_type": "markdown",
      "metadata": {
        "id": "7dhwl9xzT1FP"
      },
      "source": [
        "Como se puede observar en este histograma que compara a la cantidad de alumnos separados por sexo, hay ligeramente más mujeres que hombres. El total de alumnos son 395 con 208 mujeres y 187 hombres. Se podría asumir que siguen la misma distribución pero ocuparía una muestra mas grande. "
      ]
    },
    {
      "cell_type": "code",
      "metadata": {
        "colab": {
          "base_uri": "https://localhost:8080/",
          "height": 682
        },
        "id": "wy4PoArLG6Hq",
        "outputId": "99b31052-9167-4689-ed03-cfc6846d0520"
      },
      "source": [
        "plt.subplots(figsize = (10,10))\n",
        "sns.heatmap(Hombres.corr(),annot= True,linewidths=0.5)"
      ],
      "execution_count": null,
      "outputs": [
        {
          "output_type": "execute_result",
          "data": {
            "text/plain": [
              "<matplotlib.axes._subplots.AxesSubplot at 0x7fe68f177b50>"
            ]
          },
          "metadata": {},
          "execution_count": 43
        },
        {
          "output_type": "display_data",
          "data": {
            "image/png": "[encoded data removed]",
            "text/plain": [
              "<Figure size 720x720 with 2 Axes>"
            ]
          },
          "metadata": {
            "needs_background": "light"
          }
        }
      ]
    },
    {
      "cell_type": "markdown",
      "metadata": {
        "id": "XCNDX-7lJDhF"
      },
      "source": [
        "Con el mapa de calor creado anteriormente, se puede observar que las variables que tienen mayor correlación son G1, G2 y G3, las cuales representan la calificación de los alumnos en cada periodo, esto dice que las calificaciones que cada alumno obtiene en el periodo 1, 2 y 3 son bastante similares. \n",
        "\n",
        "Tambien hay una correlación alta entre el consumo de alcohol los fines de semana y las salidas.  Esto indica que los alumnos que salen los fines de semana son altamente propensos a beber. Dalc y Falc se comportan similarmente con una correlación alta. "
      ]
    },
    {
      "cell_type": "code",
      "metadata": {
        "colab": {
          "base_uri": "https://localhost:8080/",
          "height": 312
        },
        "id": "EshXFKVgbF9S",
        "outputId": "3989238b-cb7a-4d2d-bd80-48b63e66d42c"
      },
      "source": [
        "sns.histplot(Hombres[\"G1\"])\n",
        "plt.title(\"Calificaciones\")\n",
        "plt.ylabel(\"Numero de alumnos hombres\")"
      ],
      "execution_count": null,
      "outputs": [
        {
          "output_type": "execute_result",
          "data": {
            "text/plain": [
              "Text(0, 0.5, 'Numero de alumnos hombres')"
            ]
          },
          "metadata": {},
          "execution_count": 48
        },
        {
          "output_type": "display_data",
          "data": {
            "image/png": "[encoded data removed]",
            "text/plain": [
              "<Figure size 432x288 with 1 Axes>"
            ]
          },
          "metadata": {
            "needs_background": "light"
          }
        }
      ]
    },
    {
      "cell_type": "code",
      "metadata": {
        "colab": {
          "base_uri": "https://localhost:8080/",
          "height": 312
        },
        "id": "iV0DDQ0KgYZ5",
        "outputId": "8c83f3fd-2fa8-4a4f-8eb9-d63fc7423bd4"
      },
      "source": [
        "sns.histplot(Hombres[\"G3\"])\n",
        "plt.title(\"Calificaciones\")\n",
        "plt.ylabel(\"Numero de alumnos hombres\")"
      ],
      "execution_count": null,
      "outputs": [
        {
          "output_type": "execute_result",
          "data": {
            "text/plain": [
              "Text(0, 0.5, 'Numero de alumnos hombres')"
            ]
          },
          "metadata": {},
          "execution_count": 49
        },
        {
          "output_type": "display_data",
          "data": {
            "image/png": "[encoded data removed]",
            "text/plain": [
              "<Figure size 432x288 with 1 Axes>"
            ]
          },
          "metadata": {
            "needs_background": "light"
          }
        }
      ]
    },
    {
      "cell_type": "markdown",
      "metadata": {
        "id": "NQI6fPJ8hXQ1"
      },
      "source": [
        "Como en el mapa de correlación me di cuenta que había relación entre las calificaciones de los periodos, decidí comparar gráficamente el periodo 1 y el periodo 3. Como se puede ver si hubo algunas variaciones importantes, mas alumnos obtuvieron calificaciones bajas pero la media de los alumnos se concentra igual en las dos graficas en el mismo intervalo 10-12. "
      ]
    },
    {
      "cell_type": "code",
      "metadata": {
        "colab": {
          "base_uri": "https://localhost:8080/",
          "height": 312
        },
        "id": "8sWQrsWzGkfk",
        "outputId": "e1fc0ff5-0955-4146-947d-5ec8ad3df831"
      },
      "source": [
        "sns.histplot(Hombres[\"Faltas\"])\n",
        "plt.title(\"Faltas\")\n",
        "plt.ylabel(\"Numero de alumnos hombres\")"
      ],
      "execution_count": null,
      "outputs": [
        {
          "output_type": "execute_result",
          "data": {
            "text/plain": [
              "Text(0, 0.5, 'Numero de alumnos hombres')"
            ]
          },
          "metadata": {},
          "execution_count": 54
        },
        {
          "output_type": "display_data",
          "data": {
            "image/png": "[encoded data removed]",
            "text/plain": [
              "<Figure size 432x288 with 1 Axes>"
            ]
          },
          "metadata": {
            "needs_background": "light"
          }
        }
      ]
    },
    {
      "cell_type": "markdown",
      "metadata": {
        "id": "PQzqQpSuZxb-"
      },
      "source": [
        "Este grafico muestra las faltas que los hombres tuvieron en el periodo, como se observa la mayoría no falta a clases lo cual es bueno porque lo descartaría como un factor importante para determinar el objetivo.\n",
        "\n",
        "La mayoria de los alumnos se concentran entre el intervalo 0-5. También nos confirma que el bajo rendimiento escolar de los alumnos puede que no este relacionado con las faltas que presentan \n",
        "\n"
      ]
    },
    {
      "cell_type": "code",
      "metadata": {
        "colab": {
          "base_uri": "https://localhost:8080/",
          "height": 482
        },
        "id": "iRdaAts_HhFV",
        "outputId": "854efe24-2275-43df-e3d5-fa99d57dc08d"
      },
      "source": [
        "import matplotlib as plt \n",
        "from matplotlib import pyplot\n",
        "from matplotlib import colors \n",
        "from matplotlib import cm \n",
        "plt.pyplot.figure(figsize=(8,8))\n",
        "Hombres['Reprobadas'].value_counts().plot.pie(autopct=\"%0.1f%%\", cmap= \"plasma_r\")\n",
        "plt.pyplot.title(\"Porcentaje de materias reprobadas\")\n",
        "plt.pyplot.show()"
      ],
      "execution_count": null,
      "outputs": [
        {
          "output_type": "display_data",
          "data": {
            "image/png": "[encoded data removed]",
            "text/plain": [
              "<Figure size 576x576 with 1 Axes>"
            ]
          },
          "metadata": {}
        }
      ]
    },
    {
      "cell_type": "markdown",
      "metadata": {
        "id": "iEaFozhcg8hR"
      },
      "source": [
        "\n",
        "El 22.9% de los alumnos hombres tienen al menos una materia reprobada, de los cuales el 14.4% tienen 1, el 5.3% tienen 3 y el 3.2% tienen 2 son pocos, comparados con el 77% que no ha reprobado ninguna materia. Esto acompañado con que los alumnos en su mayoría faltan poco hace mucho sentido a que casi no tengan materias reprobadas. \n"
      ]
    },
    {
      "cell_type": "code",
      "metadata": {
        "colab": {
          "base_uri": "https://localhost:8080/",
          "height": 312
        },
        "id": "Es4KiuJNIJzf",
        "outputId": "6072ca42-62fc-4eaf-9a30-06f7b46cff84"
      },
      "source": [
        "sns.barplot(x=Hombres['Edad'],y=Hombres['Falc'])\n",
        "plt.title(\"Cantidad de alcohol el fin de semana\")"
      ],
      "execution_count": null,
      "outputs": [
        {
          "output_type": "execute_result",
          "data": {
            "text/plain": [
              "Text(0.5, 1.0, 'Cantidad de alcohol el fin de semana')"
            ]
          },
          "metadata": {},
          "execution_count": 62
        },
        {
          "output_type": "display_data",
          "data": {
            "image/png": "[encoded data removed]",
            "text/plain": [
              "<Figure size 432x288 with 1 Axes>"
            ]
          },
          "metadata": {
            "needs_background": "light"
          }
        }
      ]
    },
    {
      "cell_type": "code",
      "metadata": {
        "colab": {
          "base_uri": "https://localhost:8080/",
          "height": 312
        },
        "id": "4IV9tUapIsga",
        "outputId": "43e0fac5-f494-4e93-95ad-32142398d303"
      },
      "source": [
        "sns.barplot(x=Hombres['Edad'],y=Hombres['Dalc'])\n",
        "plt.title(\"Cantidad de alcohol entre semana\")"
      ],
      "execution_count": null,
      "outputs": [
        {
          "output_type": "execute_result",
          "data": {
            "text/plain": [
              "Text(0.5, 1.0, 'Cantidad de alcohol entre semana')"
            ]
          },
          "metadata": {},
          "execution_count": 63
        },
        {
          "output_type": "display_data",
          "data": {
            "image/png": "[encoded data removed]",
            "text/plain": [
              "<Figure size 432x288 with 1 Axes>"
            ]
          },
          "metadata": {
            "needs_background": "light"
          }
        }
      ]
    },
    {
      "cell_type": "markdown",
      "metadata": {
        "id": "OiQlCEL-h91a"
      },
      "source": [
        "Las ultimas dos graficas las voy a analizar juntas, ya que las dos miden el consumo de alcohol una entre semana y otra el fin de semana. La edad registrada con mas consumo de alcohol es de 22 años pero no se tomara en cuenta por falta de datos ya que solo 1 persona tiene 22, así mismo con los datos presentados con 21 años ya que de igual manera solo hay una persona con estos datos. Se puede ver como el consumo de alcohol aumenta cuando es la grafica de fin de semana, sin embargo, las edades se mantienen igual en cuanto las comparas entre si. \n",
        "\n",
        "Yo considero a partir de estas dos gráficas, que la edad donde mas se consume alcohol es a los 17 años, seguida de los 18. Esto lo podemos comprobar con la estadística descriptiva y la segunda pregunta de interés. \n"
      ]
    },
    {
      "cell_type": "markdown",
      "metadata": {
        "id": "3TzIDXykvsQ1"
      },
      "source": [
        "# **Conclusión**\n",
        "\n"
      ]
    },
    {
      "cell_type": "markdown",
      "metadata": {
        "id": "4SiIzN8Rw__h"
      },
      "source": [
        "Con el análisis y las graficas que acabo de obtener aun no puedo llegar a concluir 100% mi objetivo, pero pude llegar a cosas importantes, como que es mas probable que el alumno consuma alcohol los fines de semana si es hombre y tiene 17 años, ya que de los 187 alumnos hombres registras 40 tienen 17 años, de los cuales 21 toman en fin de semana de 3-4 que es una cantidad media-alta y de los 39 alumnos de 18 años, 17 toman en fin de semana de 3-4 que es una. \n",
        "\n",
        "Estos estudiantes emplean 1-2 horas de estudio semanales es exageradamente poco, sin embargo, la mayoría tiene ninguna materia reprobada, 10 de ellos no tienen actividades extracurriculares, la mayoría han faltado mas de dos veces a la escuela. Los promedios de los tres periodos en general de los alumnos hombres de 17 que toman entre medio-alto, estan bajos ya que en una escala del 0 al 20, estos corresponden a G1= 10.99, G2= 10.41 y G3=9.98. \n",
        "\n",
        "Con todo lo anterior, si se llego a resaltar unas características importantes del perfil al que se pretende llegar. \n"
      ]
    },
    {
      "cell_type": "markdown",
      "metadata": {
        "id": "H2nce4fNiL1D"
      },
      "source": [
        "# **Técnica de Minería**\n",
        "\n",
        "***Elección de la técnica***\n",
        "\n",
        "Árboles de decisión es una técnica que permite analizar decisiones secuenciales basada en el uso de resultados y probabilidades asociadas. Como mi objetivo es ver que tipo de alumno es mas propenso a consumir alcohol conforme a sus características, el árbol de decisión me facilita la interpretación de mi decisión adoptada. \n",
        "\n",
        "Desde mi punto de vista el árbol de decisión es la técnica mas eficiente por el tipo de datos que tengo y porque con ayuda de las gráficas y de la estadística descriptiva previa poco a poco pude comenzar a hacer un perfil del estudiante con mayor posibilidad de consumir altas cantidades de alcohol el fin de semana.  \n"
      ]
    },
    {
      "cell_type": "markdown",
      "metadata": {
        "id": "ttNG8P_FmnH7"
      },
      "source": [
        "***Árbol de decisión***"
      ]
    },
    {
      "cell_type": "code",
      "metadata": {
        "id": "ZcMg5sLVmdd2"
      },
      "source": [
        "import numpy as np\n",
        "import pandas as pd\n",
        "import seaborn as sb\n",
        "import matplotlib.pyplot as plt\n",
        "%matplotlib inline\n",
        "plt.rcParams['figure.figsize'] = (16, 9)\n",
        "plt.style.use('ggplot')\n",
        "from sklearn import tree\n",
        "from sklearn.metrics import accuracy_score\n",
        "from sklearn.model_selection import KFold\n",
        "from sklearn.model_selection import cross_val_score\n",
        "from IPython.display import Image as PImage\n",
        "from subprocess import check_call\n",
        "from PIL import Image, ImageDraw, ImageFont"
      ],
      "execution_count": null,
      "outputs": []
    },
    {
      "cell_type": "code",
      "metadata": {
        "id": "9W-LvJNXmtCT"
      },
      "source": [
        "nbf= nbf.fillna(0)"
      ],
      "execution_count": null,
      "outputs": []
    },
    {
      "cell_type": "markdown",
      "metadata": {
        "id": "V5dsmXzYm27a"
      },
      "source": [
        "A continuación ransformare los datos de entrada en valores categoricos para hacer el mapa mental"
      ]
    },
    {
      "cell_type": "code",
      "metadata": {
        "id": "-Uj1EQn8m3-Z"
      },
      "source": [
        "#Sexo Maping\n",
        "nb['SexoEncoded']=nb['Sexo'].map({'M':1,'F':0,'':0}).astype(int)\n",
        "#Mood maping \n",
        "\n",
        "#En una relación\n",
        "nb['RelaciónEncoded']=nb['Relación'].map({'yes':1,'no':0,'':0}).astype(int)\n",
        "\n",
        "#Estatus de convivencia de los padres \n",
        "nb['Estatus_padresEncoded']=nb['Estatus_padres'].map({'T':1,'A':0,'':0}).astype(int)\n",
        "\n",
        "#Edades por grupos \n",
        "nb.loc[nb['Edad']<=16,'EdadEncoded']=1\n",
        "nb.loc[(nb['Edad']>=17)&(nb['Edad']<=18),'EdadEncoded']=2\n",
        "nb.loc[(nb['Edad']>=19)&(nb['Edad']<=20),'EdadEncoded']=3\n",
        "nb.loc[(nb['Edad']>=21)&(nb['Edad']<=22),'EdadEncoded']=4\n",
        "\n",
        "#Calificaciones Agrupadas del G1, G2 y G3 \n",
        "#G1\n",
        "nb.loc[nb['G1']<=5,'G1Encoded']=0\n",
        "nb.loc[(nb['G1']>=6)&(nb['G1']<=10),'G1Encoded']=1\n",
        "nb.loc[(nb['G1']>=11)&(nb['G1']<=15),'G1Encoded']=2\n",
        "nb.loc[(nb['G1']>=16)&(nb['G1']<=20),'G1Encoded']=4\n",
        "#G2\n",
        "nb.loc[nb['G2']<=5,'G2Encoded']=0\n",
        "nb.loc[(nb['G2']>=6)&(nb['G2']<=10),'G2Encoded']=1\n",
        "nb.loc[(nb['G2']>=11)&(nb['G2']<=15),'G2Encoded']=2\n",
        "nb.loc[(nb['G2']>=16)&(nb['G2']<=20),'G2Encoded']=4\n",
        "#G3\n",
        "nb.loc[nb['G3']<=5,'G3Encoded']=0\n",
        "nb.loc[(nb['G3']>=6)&(nb['G3']<=10),'G3Encoded']=1\n",
        "nb.loc[(nb['G3']>=11)&(nb['G3']<=15),'G3Encoded']=2\n",
        "nb.loc[(nb['G3']>=16)&(nb['G3']<=20),'G3Encoded']=4\n",
        "\n",
        "#Agrupar datos de consumo de alcohol entre semana y fin de semana \n",
        "#Fin de semana \n",
        "nb.loc[nb['Falc']<=2,'FalcEncoded']=0\n",
        "nb.loc[(nb['Falc']>=3)&(nb['Falc']<=5),'FalcEncoded']=1\n",
        "#entre semana \n",
        "nb.loc[nb['Dalc']<=2,'DalcEncoded']=0\n",
        "nb.loc[(nb['Dalc']>=3)&(nb['Dalc']<=5),'DalcEncoded']=1\n",
        "\n",
        "#Relación familiar, datos agrupados\n",
        "nb.loc[nb['Famrel']<=2,'FamrelEncoded']=1\n",
        "nb.loc[(nb['Famrel']==3),'FamrelEncoded']=2\n",
        "nb.loc[(nb['Famrel']>=4)&(nb['Famrel']<=5),'FamrelEncoded']=3\n",
        "\n",
        "#tiempo de estudio \n",
        "nb.loc[nb['Tiempo_estudio']<=2,'Tiempo_estudioEncoded']=1\n",
        "nb.loc[(nb['Tiempo_estudio']==3),'Tiempo_estudio']=2\n",
        "nb.loc[(nb['Tiempo_estudio']>=4)&(nb['Tiempo_estudio']<=5),'Tiempo_estudio']=3"
      ],
      "execution_count": null,
      "outputs": []
    },
    {
      "cell_type": "markdown",
      "metadata": {
        "id": "bGBbYJaPnJ3T"
      },
      "source": [
        "En este caso tomare como base para el arbol, la columna de FalcEncoded que muestra el consumo de alcohol en fin de semana que tienen los alumnos separados en dos grupos 1 y 0, en el grupo 0 estan los alumnos que consumen muy poco alcohol entonces los tomare como de menor riesgo de volverse alcoholicos y en el grupo 1 estan los alumnos que tienen un consumo de alcohol elevado"
      ]
    },
    {
      "cell_type": "markdown",
      "metadata": {
        "id": "CXmEevyInL8N"
      },
      "source": [
        "Ya una vez agrupados todos los datos de concidero importantes, procedere a eliminar las columnas que no necesitare con la funcion drop.\n",
        "\n",
        "Tendre un nuevo conjunto de datos al que llamaré Hombres_Encoded"
      ]
    },
    {
      "cell_type": "code",
      "metadata": {
        "id": "-G8ICnemnOnL"
      },
      "source": [
        "drop_elements = ['Sexo','Edad','Fam', 'Estatus_padres', 'Tiempo_estudio',\t'Reprobadas',\t'Relación',\t'Famrel',\t'Tiempo_libre',\t'Salir',\t'Dalc',\t'Falc',\t'health',\t'Faltas',\t'G1',\t'G2',\t'G3']\n",
        "nb_encoded = nb.drop(drop_elements, axis=1)"
      ],
      "execution_count": null,
      "outputs": []
    },
    {
      "cell_type": "code",
      "metadata": {
        "id": "OmCfXSSwnU49"
      },
      "source": [
        "#por si acaso, eliminar presencia de datos nulos \n",
        "nb_encoded= nb_encoded.fillna(0)\n"
      ],
      "execution_count": null,
      "outputs": []
    },
    {
      "cell_type": "markdown",
      "metadata": {
        "id": "HJ07lmZknfXG"
      },
      "source": [
        "***Creación del arbol***"
      ]
    },
    {
      "cell_type": "code",
      "metadata": {
        "colab": {
          "base_uri": "https://localhost:8080/"
        },
        "id": "KjrojVkmnjEM",
        "outputId": "18c9c56c-30aa-43ac-a713-d785fbf40c8a"
      },
      "source": [
        "cv = KFold(n_splits=10) # Numero deseado de \"folds\" que haremos\n",
        "accuracies = list()\n",
        "max_attributes = len(list(nb_encoded))\n",
        "depth_range = range(1, max_attributes + 1)\n",
        "\n",
        "# Testearemos la profundidad de 1 a cantidad de atributos +1\n",
        "for depth in depth_range:\n",
        "    fold_accuracy = []\n",
        "    tree_model = tree.DecisionTreeClassifier(criterion='entropy',\n",
        "                                             min_samples_split=20,\n",
        "                                             min_samples_leaf=5,\n",
        "                                             max_depth = depth,\n",
        "                                             class_weight={1:1.4})\n",
        "    for train_fold, valid_fold in cv.split(nb_encoded):\n",
        "        f_train = nb_encoded.loc[train_fold] \n",
        "        f_valid = nb_encoded.loc[valid_fold] \n",
        " \n",
        "        model = tree_model.fit(X = f_train.drop(['FalcEncoded'], axis=1), \n",
        "                               y = f_train[\"FalcEncoded\"]) \n",
        "        valid_acc = model.score(X = f_valid.drop(['FalcEncoded'], axis=1), \n",
        "                                y = f_valid[\"FalcEncoded\"]) # calculamos la precision con el segmento de validacion\n",
        "        fold_accuracy.append(valid_acc)\n",
        " \n",
        "    avg = sum(fold_accuracy)/len(fold_accuracy)\n",
        "    accuracies.append(avg)\n",
        "    \n",
        "# Mostramos los resultados obtenidos\n",
        "df = pd.DataFrame({\"Max Depth\": depth_range, \"Average Accuracy\": accuracies})\n",
        "df = df[[\"Max Depth\", \"Average Accuracy\"]]\n",
        "print(df.to_string(index=False))"
      ],
      "execution_count": null,
      "outputs": [
        {
          "output_type": "stream",
          "name": "stdout",
          "text": [
            " Max Depth  Average Accuracy\n",
            "         1          0.698526\n",
            "         2          0.541538\n",
            "         3          0.637821\n",
            "         4          0.639808\n",
            "         5          0.657949\n",
            "         6          0.627564\n",
            "         7          0.627692\n",
            "         8          0.627628\n",
            "         9          0.622628\n",
            "        10          0.625128\n",
            "        11          0.622628\n"
          ]
        }
      ]
    },
    {
      "cell_type": "markdown",
      "metadata": {
        "id": "w2DcUqHOn3Bd"
      },
      "source": [
        "Se puede ver que en 5 niveles de splits se tiene el score más alto, con casi 65%\n",
        "\n",
        "Ahora ya sólo queda crear y visualizar el árbol de 5 niveles de profundidad"
      ]
    },
    {
      "cell_type": "markdown",
      "metadata": {
        "id": "OgfOCKIUn6KN"
      },
      "source": [
        "***Visualización del arbol***"
      ]
    },
    {
      "cell_type": "code",
      "metadata": {
        "colab": {
          "base_uri": "https://localhost:8080/",
          "height": 412
        },
        "id": "BuB0RFd_n33-",
        "outputId": "9fa4d1bb-014b-4e5d-eccc-1aaa526fcaae"
      },
      "source": [
        "# Crear arrays de entrenamiento y las etiquetas que indican si es Hombre o no \n",
        "y_train = nb_encoded['FalcEncoded']\n",
        "x_train = nb_encoded.drop(['FalcEncoded'], axis=1).values \n",
        "\n",
        "# Crear Arbol de decision con profundidad = 5\n",
        "decision_tree = tree.DecisionTreeClassifier(criterion='entropy',\n",
        "                                            min_samples_split=20,\n",
        "                                            min_samples_leaf=5,\n",
        "                                            max_depth = 5,\n",
        "                                            class_weight={1:1.4})\n",
        "decision_tree.fit(x_train, y_train)\n",
        " \n",
        "# exportar el modelo a archivo .dot\n",
        "with open(r\"tree1.dot\", 'w') as f:\n",
        "     f = tree.export_graphviz(decision_tree,\n",
        "                              out_file=f,\n",
        "                              max_depth = 7,\n",
        "                              impurity = True,\n",
        "                              feature_names = list(nb_encoded.drop(['FalcEncoded'], axis=1)),\n",
        "                              class_names = ['No', 'Más probable en volverse alcoholico'],\n",
        "                              rounded = True,\n",
        "                              filled= True )\n",
        "        \n",
        "# Convertir el archivo .dot a png para poder visualizarlo\n",
        "check_call(['dot','-Tpng',r'tree1.dot','-o',r'tree1.png'])\n",
        "PImage(\"tree1.png\")"
      ],
      "execution_count": null,
      "outputs": [
        {
          "output_type": "execute_result",
          "data": {
            "image/png": "[encoded data removed]",
            "text/plain": [
              "<IPython.core.display.Image object>"
            ]
          },
          "metadata": {},
          "execution_count": 56
        }
      ]
    },
    {
      "cell_type": "markdown",
      "metadata": {
        "id": "NrfBRsnCoaMr"
      },
      "source": [
        "***Análisis***\n",
        "\n",
        "En la gráfica vemos, un nodo raíz que hace una primer subdivisión por cantidad de alcohol consumida entre semana y las salidas van a izquierda por True que sea menor a 0.5, es decir tiempo de estudio y a derecha en False van las calificaciones del 1 periodo que la mayoría están en el grupo 1 que son calificaciones reprobatorias.\n",
        "\n",
        "En el segundo nivel vemos que la cantidad de muestras (samples) queda repartida en 351 y 44 respectivamente. A medida que bajamos de nivel veremos que los valores de entropía se aproximan más a 1, cuando el nodo tiene más muestras FalcEncoded=1 (azul) y se acercan a 0 cuando hay mayoría de muestras de FalcEncoded =0 (naranja)."
      ]
    },
    {
      "cell_type": "code",
      "metadata": {
        "colab": {
          "base_uri": "https://localhost:8080/"
        },
        "id": "h0BxVaslobn1",
        "outputId": "4e5864de-9c4f-4741-db89-21d77f614e00"
      },
      "source": [
        "\n",
        "#Evaluación del modelo \n",
        "acc_decision_tree = round(decision_tree.score(x_train, y_train) * 100, 2)\n",
        "print(acc_decision_tree)"
      ],
      "execution_count": null,
      "outputs": [
        {
          "output_type": "stream",
          "name": "stdout",
          "text": [
            "72.66\n"
          ]
        }
      ]
    },
    {
      "cell_type": "markdown",
      "metadata": {
        "id": "U3t-3fQ_o3n8"
      },
      "source": [
        "***Conclusión***\n",
        "\n",
        "Anteriormente en las gráficas, analice algunas características de la base de datos que a mi parecer eran importantes para cumplir con mi objetivo. Después proseguí a realizar el árbol de decisión con las categorías ya analizadas, este me arrojo resultados bastante interesantes  con una precisión del 72.66% y si bien no es la mejor, creo que es bastante buena para la cantidad de datos que maneja la base de datos, que a mi parecer son pocos, estos resultados me ayudaron a poder lograr mi objetivo que en pocas palabras es ver qué tipo de alumno podría consumir alcohol de manera inapropiada los fines de semana con sus características registradas.\n",
        "\n",
        "En conclusión y contemplando todo en análisis de los datos hasta ahorita un estudiante es más propenso a consumir alcohol los fines de semana en cantidades altas, si es de género masculino, con calificaciones reprobatorias en los tres periodos, que presente consumo de alcohol entre semana y en fin de semana, de edades entre 17 y 18 años y con una relación familiar baja.\n",
        "\n"
      ]
    },
    {
      "cell_type": "markdown",
      "metadata": {
        "id": "zW3Kc5Cmt7hw"
      },
      "source": [
        "# **Trabajo a futuro**\n",
        "\n",
        "Después de hacer una investigación y analizar las características de los alumnos que consumen alcohol, y con apoyo de las graficas y de los resultados del árbol de decisión puedo decir que, para poder llegar a un análisis mas profundo y certero, desde mi punto de vista, contar una población mas grande de alumnos específicamente entre las edades de 21 y 22 años, es necesario, así como agregar una columna en donde se pregunta a cada alumno si en su familia hay antecedentes de alcoholismo, puesto que para esta investigación seria importante conocer este aspecto de los alumnos también. Otro factor que me parece importante preguntar a los alumnos es que clasifiquen ellos que tan estrictos son sus papás en una escala del 1-5.\n",
        "\n",
        "Me parece que estas conclusiones pueden ser de mucha ayuda para secundarias, prepas y hasta universidades, ayudarían a poder identificar a esos alumnos en riesgo y tratar de evitar que el consumo de alcohol escale a una enfermedad como es el alcoholismo, ya sea haciendo campañas de concientización o dando platicas sobre el tema.El alcoholismo es una enfermedad y no un vicio, cuya necesidad o dependencia a la ingesta de bebidas alcohólicas en las personas, genera deterioro en su salud física y mental. No hay síntomas precisos, pero si existen cambios notorios en el comportamiento de la persona en el ámbito laboral y familiar."
      ]
    }
  ]
}